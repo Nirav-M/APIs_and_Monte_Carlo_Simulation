{
 "cells": [
  {
   "cell_type": "markdown",
   "metadata": {},
   "source": [
    "# Financial Planning with APIs and Simulations\n",
    "\n",
    "In this Challenge, you’ll create two financial analysis tools by using a single Jupyter notebook:\n",
    "\n",
    "Part 1: A financial planner for emergencies. The members will be able to use this tool to visualize their current savings. The members can then determine if they have enough reserves for an emergency fund.\n",
    "\n",
    "Part 2: A financial planner for retirement. This tool will forecast the performance of their retirement portfolio in 30 years. To do this, the tool will make an Alpaca API call via the Alpaca SDK to get historical price data for use in Monte Carlo simulations.\n",
    "\n",
    "You’ll use the information from the Monte Carlo simulation to answer questions about the portfolio in your Jupyter notebook.\n",
    "\n"
   ]
  },
  {
   "cell_type": "code",
   "execution_count": 1,
   "metadata": {},
   "outputs": [],
   "source": [
    "# Import the required libraries and dependencies\n",
    "import os\n",
    "import requests\n",
    "import json\n",
    "import pandas as pd\n",
    "from dotenv import load_dotenv\n",
    "import alpaca_trade_api as tradeapi\n",
    "from MCForecastTools import MCSimulation\n",
    "\n",
    "%matplotlib inline"
   ]
  },
  {
   "cell_type": "code",
   "execution_count": 2,
   "metadata": {},
   "outputs": [
    {
     "name": "stderr",
     "output_type": "stream",
     "text": [
      "Python-dotenv could not parse statement starting at line 4\n"
     ]
    },
    {
     "data": {
      "text/plain": [
       "True"
      ]
     },
     "execution_count": 2,
     "metadata": {},
     "output_type": "execute_result"
    }
   ],
   "source": [
    "# Load the environment variables from the .env file\n",
    "#by calling the load_dotenv function\n",
    "\n",
    "load_dotenv()"
   ]
  },
  {
   "cell_type": "markdown",
   "metadata": {},
   "source": [
    "## Part 1: Create a Financial Planner for Emergencies"
   ]
  },
  {
   "cell_type": "markdown",
   "metadata": {},
   "source": [
    "### Evaluate the Cryptocurrency Wallet by Using the Requests Library\n",
    "\n",
    "In this section, you’ll determine the current value of a member’s cryptocurrency wallet. You’ll collect the current prices for the Bitcoin and Ethereum cryptocurrencies by using the Python Requests library. For the prototype, you’ll assume that the member holds the 1.2 Bitcoins (BTC) and 5.3 Ethereum coins (ETH). To do all this, complete the following steps:\n",
    "\n",
    "1. Create a variable named `monthly_income`, and set its value to `12000`.\n",
    "\n",
    "2. Use the Requests library to get the current price (in US dollars) of Bitcoin (BTC) and Ethereum (ETH) by using the API endpoints that the starter code supplies.\n",
    "\n",
    "3. Navigate the JSON response object to access the current price of each coin, and store each in a variable.\n",
    "\n",
    "    > **Hint** Note the specific identifier for each cryptocurrency in the API JSON response. The Bitcoin identifier is `1`, and the Ethereum identifier is `1027`.\n",
    "\n",
    "4. Calculate the value, in US dollars, of the current amount of each cryptocurrency and of the entire cryptocurrency wallet.\n",
    "\n"
   ]
  },
  {
   "cell_type": "code",
   "execution_count": 3,
   "metadata": {},
   "outputs": [],
   "source": [
    "# The current number of coins for each cryptocurrency asset held in the portfolio.\n",
    "btc_coins = 1.2\n",
    "eth_coins = 5.3"
   ]
  },
  {
   "cell_type": "markdown",
   "metadata": {},
   "source": [
    "#### Step 1: Create a variable named `monthly_income`, and set its value to `12000`."
   ]
  },
  {
   "cell_type": "code",
   "execution_count": 4,
   "metadata": {},
   "outputs": [],
   "source": [
    "# The monthly amount for the member's household income\n",
    "\n",
    "monthly_income = 12000"
   ]
  },
  {
   "cell_type": "markdown",
   "metadata": {},
   "source": [
    "#### Review the endpoint URLs for the API calls to Free Crypto API in order to get the current pricing information for both BTC and ETH."
   ]
  },
  {
   "cell_type": "code",
   "execution_count": 5,
   "metadata": {},
   "outputs": [],
   "source": [
    "# The Free Crypto API Call endpoint URLs for the held cryptocurrency assets\n",
    "btc_url = \"https://api.alternative.me/v2/ticker/Bitcoin/?convert=USD\"\n",
    "eth_url = \"https://api.alternative.me/v2/ticker/Ethereum/?convert=USD\""
   ]
  },
  {
   "cell_type": "markdown",
   "metadata": {},
   "source": [
    "#### Step 2. Use the Requests library to get the current price (in US dollars) of Bitcoin (BTC) and Ethereum (ETH) by using the API endpoints that the starter code supplied."
   ]
  },
  {
   "cell_type": "code",
   "execution_count": 6,
   "metadata": {},
   "outputs": [
    {
     "name": "stdout",
     "output_type": "stream",
     "text": [
      "{\n",
      "   \"data\": {\n",
      "      \"1\": {\n",
      "         \"circulating_supply\": 19098906,\n",
      "         \"id\": 1,\n",
      "         \"last_updated\": 1658367801,\n",
      "         \"max_supply\": 21000000,\n",
      "         \"name\": \"Bitcoin\",\n",
      "         \"quotes\": {\n",
      "            \"USD\": {\n",
      "               \"market_cap\": 445917146143,\n",
      "               \"percent_change_1h\": 0.31191343077799,\n",
      "               \"percent_change_24h\": 0.182083176167444,\n",
      "               \"percent_change_7d\": 15.3239800499537,\n",
      "               \"percentage_change_1h\": 0.31191343077799,\n",
      "               \"percentage_change_24h\": 0.182083176167444,\n",
      "               \"percentage_change_7d\": 15.3239800499537,\n",
      "               \"price\": 23325.0,\n",
      "               \"volume_24h\": 41087864814\n",
      "            }\n",
      "         },\n",
      "         \"rank\": 1,\n",
      "         \"symbol\": \"BTC\",\n",
      "         \"total_supply\": 19098906,\n",
      "         \"website_slug\": \"bitcoin\"\n",
      "      }\n",
      "   },\n",
      "   \"metadata\": {\n",
      "      \"error\": null,\n",
      "      \"num_cryptocurrencies\": 3116,\n",
      "      \"timestamp\": 1658367801\n",
      "   }\n",
      "}\n"
     ]
    }
   ],
   "source": [
    "# Using the Python requests library, make an API call to access the current price of BTC\n",
    "btc_response = requests.get(btc_url).json()\n",
    "\n",
    "# Use the json.dumps function to review the response data from the API call\n",
    "# Use the indent and sort_keys parameters to make the response object readable\n",
    "\n",
    "print(json.dumps(btc_response, indent=3, sort_keys=True))\n"
   ]
  },
  {
   "cell_type": "code",
   "execution_count": 7,
   "metadata": {},
   "outputs": [
    {
     "name": "stdout",
     "output_type": "stream",
     "text": [
      "{\n",
      "   \"data\": {\n",
      "      \"1027\": {\n",
      "         \"circulating_supply\": 119758860,\n",
      "         \"id\": 1027,\n",
      "         \"last_updated\": 1658367790,\n",
      "         \"max_supply\": 119759073,\n",
      "         \"name\": \"Ethereum\",\n",
      "         \"quotes\": {\n",
      "            \"USD\": {\n",
      "               \"market_cap\": 184274375888,\n",
      "               \"percent_change_1h\": 0.95971489567374,\n",
      "               \"percent_change_24h\": -0.438697282853242,\n",
      "               \"percent_change_7d\": 38.3331461669218,\n",
      "               \"percentage_change_1h\": 0.95971489567374,\n",
      "               \"percentage_change_24h\": -0.438697282853242,\n",
      "               \"percentage_change_7d\": 38.3331461669218,\n",
      "               \"price\": 1539.54,\n",
      "               \"volume_24h\": 21481660177\n",
      "            }\n",
      "         },\n",
      "         \"rank\": 2,\n",
      "         \"symbol\": \"ETH\",\n",
      "         \"total_supply\": 119758860,\n",
      "         \"website_slug\": \"ethereum\"\n",
      "      }\n",
      "   },\n",
      "   \"metadata\": {\n",
      "      \"error\": null,\n",
      "      \"num_cryptocurrencies\": 3116,\n",
      "      \"timestamp\": 1658367790\n",
      "   }\n",
      "}\n"
     ]
    }
   ],
   "source": [
    "# Using the Python requests library, make an API call to access the current price ETH\n",
    "eth_response = requests.get(eth_url).json()\n",
    "\n",
    "# Use the json.dumps function to review the response data from the API call\n",
    "# Use the indent and sort_keys parameters to make the response object readable\n",
    "\n",
    "print(json.dumps(eth_response, indent=3, sort_keys=True))\n"
   ]
  },
  {
   "cell_type": "markdown",
   "metadata": {},
   "source": [
    "#### Step 3: Navigate the JSON response object to access the current price of each coin, and store each in a variable."
   ]
  },
  {
   "cell_type": "code",
   "execution_count": 8,
   "metadata": {},
   "outputs": [
    {
     "data": {
      "text/plain": [
       "23325.0"
      ]
     },
     "execution_count": 8,
     "metadata": {},
     "output_type": "execute_result"
    }
   ],
   "source": [
    "# Navigate the BTC response object to access the current price of BTC\n",
    "btc_price = btc_response[\"data\"][\"1\"][\"quotes\"][\"USD\"][\"price\"]\n",
    "\n",
    "# Print the current price of BTC\n",
    "\n",
    "btc_price\n"
   ]
  },
  {
   "cell_type": "code",
   "execution_count": 9,
   "metadata": {},
   "outputs": [
    {
     "data": {
      "text/plain": [
       "1539.54"
      ]
     },
     "execution_count": 9,
     "metadata": {},
     "output_type": "execute_result"
    }
   ],
   "source": [
    "# Navigate the BTC response object to access the current price of ETH\n",
    "eth_price = eth_response[\"data\"][\"1027\"][\"quotes\"][\"USD\"][\"price\"]\n",
    "\n",
    "# Print the current price of ETH\n",
    "\n",
    "eth_price\n"
   ]
  },
  {
   "cell_type": "markdown",
   "metadata": {},
   "source": [
    "### Step 4: Calculate the value, in US dollars, of the current amount of each cryptocurrency and of the entire cryptocurrency wallet."
   ]
  },
  {
   "cell_type": "code",
   "execution_count": 10,
   "metadata": {},
   "outputs": [
    {
     "data": {
      "text/plain": [
       "27990.0"
      ]
     },
     "execution_count": 10,
     "metadata": {},
     "output_type": "execute_result"
    }
   ],
   "source": [
    "# Compute the current value of the BTC holding \n",
    "btc_value = btc_price * btc_coins\n",
    "\n",
    "# Print current value of your holding in BTC\n",
    "\n",
    "btc_value\n"
   ]
  },
  {
   "cell_type": "code",
   "execution_count": 11,
   "metadata": {},
   "outputs": [
    {
     "data": {
      "text/plain": [
       "8159.562"
      ]
     },
     "execution_count": 11,
     "metadata": {},
     "output_type": "execute_result"
    }
   ],
   "source": [
    "# Compute the current value of the ETH holding \n",
    "eth_value = eth_price * eth_coins\n",
    "\n",
    "# Print current value of your holding in ETH\n",
    "\n",
    "eth_value\n"
   ]
  },
  {
   "cell_type": "code",
   "execution_count": 12,
   "metadata": {},
   "outputs": [
    {
     "data": {
      "text/plain": [
       "36149.562"
      ]
     },
     "execution_count": 12,
     "metadata": {},
     "output_type": "execute_result"
    }
   ],
   "source": [
    "# Compute the total value of the cryptocurrency wallet\n",
    "# Add the value of the BTC holding to the value of the ETH holding\n",
    "total_crypto_wallet = btc_value + eth_value\n",
    "\n",
    "# Print current cryptocurrency wallet balance\n",
    "\n",
    "total_crypto_wallet\n"
   ]
  },
  {
   "cell_type": "markdown",
   "metadata": {},
   "source": [
    "### Evaluate the Stock and Bond Holdings by Using the Alpaca SDK\n",
    "\n",
    "In this section, you’ll determine the current value of a member’s stock and bond holdings. You’ll make an API call to Alpaca via the Alpaca SDK to get the current closing prices of the SPDR S&P 500 ETF Trust (ticker: SPY) and of the iShares Core US Aggregate Bond ETF (ticker: AGG). For the prototype, assume that the member holds 110 shares of SPY, which represents the stock portion of their portfolio, and 200 shares of AGG, which represents the bond portion. To do all this, complete the following steps:\n",
    "\n",
    "1. In the `Starter_Code` folder, create an environment file (`.env`) to store the values of your Alpaca API key and Alpaca secret key.\n",
    "\n",
    "2. Set the variables for the Alpaca API and secret keys. Using the Alpaca SDK, create the Alpaca `tradeapi.REST` object. In this object, include the parameters for the Alpaca API key, the secret key, and the version number.\n",
    "\n",
    "3. Set the following parameters for the Alpaca API call:\n",
    "\n",
    "    - `tickers`: Use the tickers for the member’s stock and bond holdings.\n",
    "\n",
    "    - `timeframe`: Use a time frame of one day.\n",
    "\n",
    "    - `start_date` and `end_date`: Use the same date for these parameters, and format them with the date of the previous weekday (or `2020-08-07`). This is because you want the one closing price for the most-recent trading day.\n",
    "\n",
    "4. Get the current closing prices for `SPY` and `AGG` by using the Alpaca `get_bars` function. Format the response as a Pandas DataFrame by including the `df` property at the end of the `get_bars` function.\n",
    "\n",
    "5. Navigating the Alpaca response DataFrame, select the `SPY` and `AGG` closing prices, and store them as variables.\n",
    "\n",
    "6. Calculate the value, in US dollars, of the current amount of shares in each of the stock and bond portions of the portfolio, and print the results.\n"
   ]
  },
  {
   "cell_type": "markdown",
   "metadata": {},
   "source": [
    "#### Review the total number of shares held in both (SPY) and (AGG)."
   ]
  },
  {
   "cell_type": "code",
   "execution_count": 13,
   "metadata": {},
   "outputs": [],
   "source": [
    "# Current amount of shares held in both the stock (SPY) and bond (AGG) portion of the portfolio.\n",
    "spy_shares = 110\n",
    "agg_shares = 200"
   ]
  },
  {
   "cell_type": "markdown",
   "metadata": {},
   "source": [
    "#### Step 1: In the `Starter_Code` folder, create an environment file (`.env`) to store the values of your Alpaca API key and Alpaca secret key."
   ]
  },
  {
   "cell_type": "markdown",
   "metadata": {},
   "source": [
    "#### Step 2: Set the variables for the Alpaca API and secret keys. Using the Alpaca SDK, create the Alpaca `tradeapi.REST` object. In this object, include the parameters for the Alpaca API key, the secret key, and the version number."
   ]
  },
  {
   "cell_type": "code",
   "execution_count": 14,
   "metadata": {},
   "outputs": [],
   "source": [
    "# Set the variables for the Alpaca API and secret keys\n",
    "\n",
    "alpaca_api_key = os.getenv(\"ALPACA_API_KEY\")\n",
    "alpaca_secret_key = os.getenv(\"ALPACA_SECRET_KEY\")\n",
    "\n",
    "# Create the Alpaca tradeapi.REST object\n",
    "\n",
    "alpaca = tradeapi.REST(\n",
    "    alpaca_api_key,\n",
    "    alpaca_secret_key,\n",
    "    api_version=\"v2\")\n"
   ]
  },
  {
   "cell_type": "markdown",
   "metadata": {},
   "source": [
    "#### Step 3: Set the following parameters for the Alpaca API call:\n",
    "\n",
    "- `tickers`: Use the tickers for the member’s stock and bond holdings.\n",
    "\n",
    "- `timeframe`: Use a time frame of one day.\n",
    "\n",
    "- `start_date` and `end_date`: Use the same date for these parameters, and format them with the date of the previous weekday (or `2020-08-07`). This is because you want the one closing price for the most-recent trading day.\n"
   ]
  },
  {
   "cell_type": "code",
   "execution_count": 15,
   "metadata": {},
   "outputs": [],
   "source": [
    "# Set the tickers for both the bond and stock portion of the portfolio\n",
    "\n",
    "tickers = [\"SPY\", \"AGG\"]\n",
    "\n",
    "# Set timeframe to 1Day\n",
    "\n",
    "timeframe = \"1D\"\n",
    "\n",
    "# Format current date as ISO format\n",
    "# Set both the start and end date at the date of your prior weekday \n",
    "# This will give you the closing price of the previous trading day\n",
    "# Alternatively you can use a start and end date of 2020-08-07\n",
    "\n",
    "start_date = pd.Timestamp(\"2021-07-15\", tz=\"America/New_York\").isoformat()\n",
    "end_date = pd.Timestamp(\"2022-07-15\", tz=\"America/New_York\").isoformat()\n"
   ]
  },
  {
   "cell_type": "markdown",
   "metadata": {},
   "source": [
    "#### Step 4: Get the current closing prices for `SPY` and `AGG` by using the Alpaca `get_bars` function. Format the response as a Pandas DataFrame by including the `df` property at the end of the `get_bars` function."
   ]
  },
  {
   "cell_type": "code",
   "execution_count": 16,
   "metadata": {},
   "outputs": [
    {
     "data": {
      "text/html": [
       "<div>\n",
       "<style scoped>\n",
       "    .dataframe tbody tr th:only-of-type {\n",
       "        vertical-align: middle;\n",
       "    }\n",
       "\n",
       "    .dataframe tbody tr th {\n",
       "        vertical-align: top;\n",
       "    }\n",
       "\n",
       "    .dataframe thead tr th {\n",
       "        text-align: left;\n",
       "    }\n",
       "</style>\n",
       "<table border=\"1\" class=\"dataframe\">\n",
       "  <thead>\n",
       "    <tr>\n",
       "      <th></th>\n",
       "      <th colspan=\"8\" halign=\"left\">SPY</th>\n",
       "      <th colspan=\"8\" halign=\"left\">AGG</th>\n",
       "    </tr>\n",
       "    <tr>\n",
       "      <th></th>\n",
       "      <th>open</th>\n",
       "      <th>high</th>\n",
       "      <th>low</th>\n",
       "      <th>close</th>\n",
       "      <th>volume</th>\n",
       "      <th>trade_count</th>\n",
       "      <th>vwap</th>\n",
       "      <th>symbol</th>\n",
       "      <th>open</th>\n",
       "      <th>high</th>\n",
       "      <th>low</th>\n",
       "      <th>close</th>\n",
       "      <th>volume</th>\n",
       "      <th>trade_count</th>\n",
       "      <th>vwap</th>\n",
       "      <th>symbol</th>\n",
       "    </tr>\n",
       "  </thead>\n",
       "  <tbody>\n",
       "    <tr>\n",
       "      <th>2021-07-15</th>\n",
       "      <td>434.79</td>\n",
       "      <td>435.5300</td>\n",
       "      <td>432.7200</td>\n",
       "      <td>434.75</td>\n",
       "      <td>54796972</td>\n",
       "      <td>419365</td>\n",
       "      <td>434.458158</td>\n",
       "      <td>SPY</td>\n",
       "      <td>115.94</td>\n",
       "      <td>116.0200</td>\n",
       "      <td>115.7222</td>\n",
       "      <td>116.00</td>\n",
       "      <td>4480877</td>\n",
       "      <td>13939</td>\n",
       "      <td>115.932112</td>\n",
       "      <td>AGG</td>\n",
       "    </tr>\n",
       "    <tr>\n",
       "      <th>2021-07-16</th>\n",
       "      <td>436.04</td>\n",
       "      <td>436.0600</td>\n",
       "      <td>430.9200</td>\n",
       "      <td>431.34</td>\n",
       "      <td>79436975</td>\n",
       "      <td>455043</td>\n",
       "      <td>433.351065</td>\n",
       "      <td>SPY</td>\n",
       "      <td>115.77</td>\n",
       "      <td>115.9600</td>\n",
       "      <td>115.7600</td>\n",
       "      <td>115.90</td>\n",
       "      <td>3869111</td>\n",
       "      <td>11677</td>\n",
       "      <td>115.901066</td>\n",
       "      <td>AGG</td>\n",
       "    </tr>\n",
       "    <tr>\n",
       "      <th>2021-07-19</th>\n",
       "      <td>426.20</td>\n",
       "      <td>431.4089</td>\n",
       "      <td>421.9700</td>\n",
       "      <td>424.97</td>\n",
       "      <td>146479969</td>\n",
       "      <td>1009975</td>\n",
       "      <td>424.441179</td>\n",
       "      <td>SPY</td>\n",
       "      <td>116.38</td>\n",
       "      <td>116.6085</td>\n",
       "      <td>116.3500</td>\n",
       "      <td>116.51</td>\n",
       "      <td>6685196</td>\n",
       "      <td>22806</td>\n",
       "      <td>116.483742</td>\n",
       "      <td>AGG</td>\n",
       "    </tr>\n",
       "    <tr>\n",
       "      <th>2021-07-20</th>\n",
       "      <td>425.73</td>\n",
       "      <td>432.4200</td>\n",
       "      <td>424.8300</td>\n",
       "      <td>431.06</td>\n",
       "      <td>99175950</td>\n",
       "      <td>587415</td>\n",
       "      <td>429.641028</td>\n",
       "      <td>SPY</td>\n",
       "      <td>116.78</td>\n",
       "      <td>116.8200</td>\n",
       "      <td>116.3200</td>\n",
       "      <td>116.40</td>\n",
       "      <td>8473123</td>\n",
       "      <td>20747</td>\n",
       "      <td>116.415725</td>\n",
       "      <td>AGG</td>\n",
       "    </tr>\n",
       "    <tr>\n",
       "      <th>2021-07-21</th>\n",
       "      <td>432.39</td>\n",
       "      <td>434.7000</td>\n",
       "      <td>431.0111</td>\n",
       "      <td>434.55</td>\n",
       "      <td>64359552</td>\n",
       "      <td>343596</td>\n",
       "      <td>433.427500</td>\n",
       "      <td>SPY</td>\n",
       "      <td>116.10</td>\n",
       "      <td>116.1500</td>\n",
       "      <td>115.9200</td>\n",
       "      <td>116.02</td>\n",
       "      <td>9664123</td>\n",
       "      <td>26165</td>\n",
       "      <td>116.034225</td>\n",
       "      <td>AGG</td>\n",
       "    </tr>\n",
       "  </tbody>\n",
       "</table>\n",
       "</div>"
      ],
      "text/plain": [
       "               SPY                                                     \\\n",
       "              open      high       low   close     volume trade_count   \n",
       "2021-07-15  434.79  435.5300  432.7200  434.75   54796972      419365   \n",
       "2021-07-16  436.04  436.0600  430.9200  431.34   79436975      455043   \n",
       "2021-07-19  426.20  431.4089  421.9700  424.97  146479969     1009975   \n",
       "2021-07-20  425.73  432.4200  424.8300  431.06   99175950      587415   \n",
       "2021-07-21  432.39  434.7000  431.0111  434.55   64359552      343596   \n",
       "\n",
       "                                  AGG                                       \\\n",
       "                  vwap symbol    open      high       low   close   volume   \n",
       "2021-07-15  434.458158    SPY  115.94  116.0200  115.7222  116.00  4480877   \n",
       "2021-07-16  433.351065    SPY  115.77  115.9600  115.7600  115.90  3869111   \n",
       "2021-07-19  424.441179    SPY  116.38  116.6085  116.3500  116.51  6685196   \n",
       "2021-07-20  429.641028    SPY  116.78  116.8200  116.3200  116.40  8473123   \n",
       "2021-07-21  433.427500    SPY  116.10  116.1500  115.9200  116.02  9664123   \n",
       "\n",
       "                                           \n",
       "           trade_count        vwap symbol  \n",
       "2021-07-15       13939  115.932112    AGG  \n",
       "2021-07-16       11677  115.901066    AGG  \n",
       "2021-07-19       22806  116.483742    AGG  \n",
       "2021-07-20       20747  116.415725    AGG  \n",
       "2021-07-21       26165  116.034225    AGG  "
      ]
     },
     "execution_count": 16,
     "metadata": {},
     "output_type": "execute_result"
    }
   ],
   "source": [
    "# Use the Alpaca get_bars function to get current closing prices the portfolio\n",
    "# Be sure to set the `df` property after the function to format the response object as a DataFrame\n",
    "\n",
    "stock_bond_portfolio_df = alpaca.get_bars(\n",
    "    tickers,\n",
    "    timeframe,\n",
    "    start = start_date,\n",
    "    end = end_date).df\n",
    "\n",
    "# Reorganize the DataFrame\n",
    "# Separate ticker data\n",
    "\n",
    "SPY = stock_bond_portfolio_df[stock_bond_portfolio_df['symbol']=='SPY']\n",
    "AGG = stock_bond_portfolio_df[stock_bond_portfolio_df['symbol']=='AGG']\n",
    "\n",
    "# Concatenate the ticker DataFrames\n",
    "\n",
    "stock_bond_portfolio_df = pd.concat([SPY, AGG],axis=1, keys=['SPY','AGG'])\n",
    "\n",
    "# Review the first 5 rows of the Alpaca DataFrame\n",
    "\n",
    "stock_bond_portfolio_df.index = stock_bond_portfolio_df.index.date\n",
    "stock_bond_portfolio_df.head(5)\n"
   ]
  },
  {
   "cell_type": "markdown",
   "metadata": {},
   "source": [
    "#### Step 5: Navigating the Alpaca response DataFrame, select the `SPY` and `AGG` closing prices, and store them as variables."
   ]
  },
  {
   "cell_type": "code",
   "execution_count": 17,
   "metadata": {},
   "outputs": [
    {
     "data": {
      "text/html": [
       "<div>\n",
       "<style scoped>\n",
       "    .dataframe tbody tr th:only-of-type {\n",
       "        vertical-align: middle;\n",
       "    }\n",
       "\n",
       "    .dataframe tbody tr th {\n",
       "        vertical-align: top;\n",
       "    }\n",
       "\n",
       "    .dataframe thead th {\n",
       "        text-align: right;\n",
       "    }\n",
       "</style>\n",
       "<table border=\"1\" class=\"dataframe\">\n",
       "  <thead>\n",
       "    <tr style=\"text-align: right;\">\n",
       "      <th></th>\n",
       "      <th>close</th>\n",
       "    </tr>\n",
       "  </thead>\n",
       "  <tbody>\n",
       "    <tr>\n",
       "      <th>2022-07-01</th>\n",
       "      <td>102.34</td>\n",
       "    </tr>\n",
       "    <tr>\n",
       "      <th>2022-07-05</th>\n",
       "      <td>102.53</td>\n",
       "    </tr>\n",
       "    <tr>\n",
       "      <th>2022-07-06</th>\n",
       "      <td>101.84</td>\n",
       "    </tr>\n",
       "    <tr>\n",
       "      <th>2022-07-07</th>\n",
       "      <td>101.61</td>\n",
       "    </tr>\n",
       "    <tr>\n",
       "      <th>2022-07-08</th>\n",
       "      <td>101.23</td>\n",
       "    </tr>\n",
       "    <tr>\n",
       "      <th>2022-07-11</th>\n",
       "      <td>101.70</td>\n",
       "    </tr>\n",
       "    <tr>\n",
       "      <th>2022-07-12</th>\n",
       "      <td>101.84</td>\n",
       "    </tr>\n",
       "    <tr>\n",
       "      <th>2022-07-13</th>\n",
       "      <td>102.21</td>\n",
       "    </tr>\n",
       "    <tr>\n",
       "      <th>2022-07-14</th>\n",
       "      <td>101.85</td>\n",
       "    </tr>\n",
       "    <tr>\n",
       "      <th>2022-07-15</th>\n",
       "      <td>102.25</td>\n",
       "    </tr>\n",
       "  </tbody>\n",
       "</table>\n",
       "</div>"
      ],
      "text/plain": [
       "             close\n",
       "2022-07-01  102.34\n",
       "2022-07-05  102.53\n",
       "2022-07-06  101.84\n",
       "2022-07-07  101.61\n",
       "2022-07-08  101.23\n",
       "2022-07-11  101.70\n",
       "2022-07-12  101.84\n",
       "2022-07-13  102.21\n",
       "2022-07-14  101.85\n",
       "2022-07-15  102.25"
      ]
     },
     "execution_count": 17,
     "metadata": {},
     "output_type": "execute_result"
    }
   ],
   "source": [
    "# Access the closing price for AGG from the Alpaca DataFrame\n",
    "# Converting the value to a floating point number\n",
    "agg_close_price = stock_bond_portfolio_df[\"AGG\"][\"close\"]\n",
    "\n",
    "# Print the AGG closing price\n",
    "\n",
    "pd.DataFrame.from_dict(agg_close_price).tail(10)"
   ]
  },
  {
   "cell_type": "code",
   "execution_count": 18,
   "metadata": {},
   "outputs": [
    {
     "data": {
      "text/html": [
       "<div>\n",
       "<style scoped>\n",
       "    .dataframe tbody tr th:only-of-type {\n",
       "        vertical-align: middle;\n",
       "    }\n",
       "\n",
       "    .dataframe tbody tr th {\n",
       "        vertical-align: top;\n",
       "    }\n",
       "\n",
       "    .dataframe thead th {\n",
       "        text-align: right;\n",
       "    }\n",
       "</style>\n",
       "<table border=\"1\" class=\"dataframe\">\n",
       "  <thead>\n",
       "    <tr style=\"text-align: right;\">\n",
       "      <th></th>\n",
       "      <th>close</th>\n",
       "    </tr>\n",
       "  </thead>\n",
       "  <tbody>\n",
       "    <tr>\n",
       "      <th>2022-07-01</th>\n",
       "      <td>381.24</td>\n",
       "    </tr>\n",
       "    <tr>\n",
       "      <th>2022-07-05</th>\n",
       "      <td>381.96</td>\n",
       "    </tr>\n",
       "    <tr>\n",
       "      <th>2022-07-06</th>\n",
       "      <td>383.25</td>\n",
       "    </tr>\n",
       "    <tr>\n",
       "      <th>2022-07-07</th>\n",
       "      <td>388.99</td>\n",
       "    </tr>\n",
       "    <tr>\n",
       "      <th>2022-07-08</th>\n",
       "      <td>388.67</td>\n",
       "    </tr>\n",
       "    <tr>\n",
       "      <th>2022-07-11</th>\n",
       "      <td>384.23</td>\n",
       "    </tr>\n",
       "    <tr>\n",
       "      <th>2022-07-12</th>\n",
       "      <td>380.83</td>\n",
       "    </tr>\n",
       "    <tr>\n",
       "      <th>2022-07-13</th>\n",
       "      <td>378.83</td>\n",
       "    </tr>\n",
       "    <tr>\n",
       "      <th>2022-07-14</th>\n",
       "      <td>377.91</td>\n",
       "    </tr>\n",
       "    <tr>\n",
       "      <th>2022-07-15</th>\n",
       "      <td>385.13</td>\n",
       "    </tr>\n",
       "  </tbody>\n",
       "</table>\n",
       "</div>"
      ],
      "text/plain": [
       "             close\n",
       "2022-07-01  381.24\n",
       "2022-07-05  381.96\n",
       "2022-07-06  383.25\n",
       "2022-07-07  388.99\n",
       "2022-07-08  388.67\n",
       "2022-07-11  384.23\n",
       "2022-07-12  380.83\n",
       "2022-07-13  378.83\n",
       "2022-07-14  377.91\n",
       "2022-07-15  385.13"
      ]
     },
     "execution_count": 18,
     "metadata": {},
     "output_type": "execute_result"
    }
   ],
   "source": [
    "# Access the closing price for SPY from the Alpaca DataFrame\n",
    "# Converting the value to a floating point number\n",
    "spy_close_price = stock_bond_portfolio_df[\"SPY\"][\"close\"]\n",
    "\n",
    "# Print the SPY closing price\n",
    "\n",
    "pd.DataFrame.from_dict(spy_close_price).tail(10)\n"
   ]
  },
  {
   "cell_type": "markdown",
   "metadata": {},
   "source": [
    "#### Step 6: Calculate the value, in US dollars, of the current amount of shares in each of the stock and bond portions of the portfolio, and print the results."
   ]
  },
  {
   "cell_type": "code",
   "execution_count": 19,
   "metadata": {},
   "outputs": [
    {
     "data": {
      "text/html": [
       "<div>\n",
       "<style scoped>\n",
       "    .dataframe tbody tr th:only-of-type {\n",
       "        vertical-align: middle;\n",
       "    }\n",
       "\n",
       "    .dataframe tbody tr th {\n",
       "        vertical-align: top;\n",
       "    }\n",
       "\n",
       "    .dataframe thead th {\n",
       "        text-align: right;\n",
       "    }\n",
       "</style>\n",
       "<table border=\"1\" class=\"dataframe\">\n",
       "  <thead>\n",
       "    <tr style=\"text-align: right;\">\n",
       "      <th></th>\n",
       "      <th>close</th>\n",
       "    </tr>\n",
       "  </thead>\n",
       "  <tbody>\n",
       "    <tr>\n",
       "      <th>2022-07-01</th>\n",
       "      <td>20468.0</td>\n",
       "    </tr>\n",
       "    <tr>\n",
       "      <th>2022-07-05</th>\n",
       "      <td>20506.0</td>\n",
       "    </tr>\n",
       "    <tr>\n",
       "      <th>2022-07-06</th>\n",
       "      <td>20368.0</td>\n",
       "    </tr>\n",
       "    <tr>\n",
       "      <th>2022-07-07</th>\n",
       "      <td>20322.0</td>\n",
       "    </tr>\n",
       "    <tr>\n",
       "      <th>2022-07-08</th>\n",
       "      <td>20246.0</td>\n",
       "    </tr>\n",
       "    <tr>\n",
       "      <th>2022-07-11</th>\n",
       "      <td>20340.0</td>\n",
       "    </tr>\n",
       "    <tr>\n",
       "      <th>2022-07-12</th>\n",
       "      <td>20368.0</td>\n",
       "    </tr>\n",
       "    <tr>\n",
       "      <th>2022-07-13</th>\n",
       "      <td>20442.0</td>\n",
       "    </tr>\n",
       "    <tr>\n",
       "      <th>2022-07-14</th>\n",
       "      <td>20370.0</td>\n",
       "    </tr>\n",
       "    <tr>\n",
       "      <th>2022-07-15</th>\n",
       "      <td>20450.0</td>\n",
       "    </tr>\n",
       "  </tbody>\n",
       "</table>\n",
       "</div>"
      ],
      "text/plain": [
       "              close\n",
       "2022-07-01  20468.0\n",
       "2022-07-05  20506.0\n",
       "2022-07-06  20368.0\n",
       "2022-07-07  20322.0\n",
       "2022-07-08  20246.0\n",
       "2022-07-11  20340.0\n",
       "2022-07-12  20368.0\n",
       "2022-07-13  20442.0\n",
       "2022-07-14  20370.0\n",
       "2022-07-15  20450.0"
      ]
     },
     "execution_count": 19,
     "metadata": {},
     "output_type": "execute_result"
    }
   ],
   "source": [
    "# Calculate the current value of the bond portion of the portfolio\n",
    "\n",
    "agg_value = agg_close_price * agg_shares\n",
    "\n",
    "# Print the current value of the bond portfolio\n",
    "\n",
    "pd.DataFrame.from_dict(agg_value).tail(10)\n"
   ]
  },
  {
   "cell_type": "code",
   "execution_count": 20,
   "metadata": {},
   "outputs": [
    {
     "data": {
      "text/html": [
       "<div>\n",
       "<style scoped>\n",
       "    .dataframe tbody tr th:only-of-type {\n",
       "        vertical-align: middle;\n",
       "    }\n",
       "\n",
       "    .dataframe tbody tr th {\n",
       "        vertical-align: top;\n",
       "    }\n",
       "\n",
       "    .dataframe thead th {\n",
       "        text-align: right;\n",
       "    }\n",
       "</style>\n",
       "<table border=\"1\" class=\"dataframe\">\n",
       "  <thead>\n",
       "    <tr style=\"text-align: right;\">\n",
       "      <th></th>\n",
       "      <th>close</th>\n",
       "    </tr>\n",
       "  </thead>\n",
       "  <tbody>\n",
       "    <tr>\n",
       "      <th>2022-07-01</th>\n",
       "      <td>41936.4</td>\n",
       "    </tr>\n",
       "    <tr>\n",
       "      <th>2022-07-05</th>\n",
       "      <td>42015.6</td>\n",
       "    </tr>\n",
       "    <tr>\n",
       "      <th>2022-07-06</th>\n",
       "      <td>42157.5</td>\n",
       "    </tr>\n",
       "    <tr>\n",
       "      <th>2022-07-07</th>\n",
       "      <td>42788.9</td>\n",
       "    </tr>\n",
       "    <tr>\n",
       "      <th>2022-07-08</th>\n",
       "      <td>42753.7</td>\n",
       "    </tr>\n",
       "    <tr>\n",
       "      <th>2022-07-11</th>\n",
       "      <td>42265.3</td>\n",
       "    </tr>\n",
       "    <tr>\n",
       "      <th>2022-07-12</th>\n",
       "      <td>41891.3</td>\n",
       "    </tr>\n",
       "    <tr>\n",
       "      <th>2022-07-13</th>\n",
       "      <td>41671.3</td>\n",
       "    </tr>\n",
       "    <tr>\n",
       "      <th>2022-07-14</th>\n",
       "      <td>41570.1</td>\n",
       "    </tr>\n",
       "    <tr>\n",
       "      <th>2022-07-15</th>\n",
       "      <td>42364.3</td>\n",
       "    </tr>\n",
       "  </tbody>\n",
       "</table>\n",
       "</div>"
      ],
      "text/plain": [
       "              close\n",
       "2022-07-01  41936.4\n",
       "2022-07-05  42015.6\n",
       "2022-07-06  42157.5\n",
       "2022-07-07  42788.9\n",
       "2022-07-08  42753.7\n",
       "2022-07-11  42265.3\n",
       "2022-07-12  41891.3\n",
       "2022-07-13  41671.3\n",
       "2022-07-14  41570.1\n",
       "2022-07-15  42364.3"
      ]
     },
     "execution_count": 20,
     "metadata": {},
     "output_type": "execute_result"
    }
   ],
   "source": [
    "# Calculate the current value of the stock portion of the portfolio\n",
    "\n",
    "spy_value = spy_close_price * spy_shares\n",
    "\n",
    "# Print the current value of the stock portfolio\n",
    "\n",
    "pd.DataFrame.from_dict(spy_value).tail(10)\n"
   ]
  },
  {
   "cell_type": "code",
   "execution_count": 21,
   "metadata": {},
   "outputs": [
    {
     "data": {
      "text/plain": [
       "62814.3"
      ]
     },
     "execution_count": 21,
     "metadata": {},
     "output_type": "execute_result"
    }
   ],
   "source": [
    "# Calculate the total value of the stock and bond portion of the portfolio\n",
    "\n",
    "total_stocks_bonds = spy_value + agg_value\n",
    "\n",
    "# Print the current balance of the stock and bond portion of the portfolio\n",
    "\n",
    "total_stocks_bonds = pd.DataFrame.from_dict(total_stocks_bonds).tail(1)\n",
    "total_stocks_bonds = total_stocks_bonds[\"close\"]\n",
    "total_stocks_bonds = float(total_stocks_bonds)\n",
    "total_stocks_bonds\n"
   ]
  },
  {
   "cell_type": "code",
   "execution_count": 22,
   "metadata": {},
   "outputs": [
    {
     "data": {
      "text/plain": [
       "36149.562"
      ]
     },
     "execution_count": 22,
     "metadata": {},
     "output_type": "execute_result"
    }
   ],
   "source": [
    "# Calculate the total value of the member's entire savings portfolio\n",
    "# Add the value of the cryptocurrency wallet to the value of the total stocks and bonds\n",
    "\n",
    "total_portfolio_value = total_crypto_wallet + total_stocks_bonds\n",
    "\n",
    "# Print current cryptocurrency wallet balance\n",
    "\n",
    "total_crypto_wallet\n"
   ]
  },
  {
   "cell_type": "markdown",
   "metadata": {},
   "source": [
    "### Evaluate the Emergency Fund\n",
    "\n",
    "In this section, you’ll use the valuations for the cryptocurrency wallet and for the stock and bond portions of the portfolio to determine if the credit union member has enough savings to build an emergency fund into their financial plan. To do this, complete the following steps:\n",
    "\n",
    "1. Create a Python list named `savings_data` that has two elements. The first element contains the total value of the cryptocurrency wallet. The second element contains the total value of the stock and bond portions of the portfolio.\n",
    "\n",
    "2. Use the `savings_data` list to create a Pandas DataFrame named `savings_df`, and then display this DataFrame. The function to create the DataFrame should take the following three parameters:\n",
    "\n",
    "    - `savings_data`: Use the list that you just created.\n",
    "\n",
    "    - `columns`: Set this parameter equal to a Python list with a single value called `amount`.\n",
    "\n",
    "    - `index`: Set this parameter equal to a Python list with the values of `crypto` and `stock/bond`.\n",
    "\n",
    "3. Use the `savings_df` DataFrame to plot a pie chart that visualizes the composition of the member’s portfolio. The y-axis of the pie chart uses `amount`. Be sure to add a title.\n",
    "\n",
    "4. Using Python, determine if the current portfolio has enough to create an emergency fund as part of the member’s financial plan. Ideally, an emergency fund should equal to three times the member’s monthly income. To do this, implement the following steps:\n",
    "\n",
    "    1. Create a variable named `emergency_fund_value`, and set it equal to three times the value of the member’s `monthly_income` of $12000. (You set this earlier in Part 1).\n",
    "\n",
    "    2. Create a series of three if statements to determine if the member’s total portfolio is large enough to fund the emergency portfolio:\n",
    "\n",
    "        1. If the total portfolio value is greater than the emergency fund value, display a message congratulating the member for having enough money in this fund.\n",
    "\n",
    "        2. Else if the total portfolio value is equal to the emergency fund value, display a message congratulating the member on reaching this important financial goal.\n",
    "\n",
    "        3. Else the total portfolio is less than the emergency fund value, so display a message showing how many dollars away the member is from reaching the goal. (Subtract the total portfolio value from the emergency fund value.)\n"
   ]
  },
  {
   "cell_type": "markdown",
   "metadata": {},
   "source": [
    "#### Step 1: Create a Python list named `savings_data` that has two elements. The first element contains the total value of the cryptocurrency wallet. The second element contains the total value of the stock and bond portions of the portfolio."
   ]
  },
  {
   "cell_type": "code",
   "execution_count": 23,
   "metadata": {},
   "outputs": [
    {
     "data": {
      "text/plain": [
       "[36149.562, 62814.3]"
      ]
     },
     "execution_count": 23,
     "metadata": {},
     "output_type": "execute_result"
    }
   ],
   "source": [
    "# Consolidate financial assets data into a Python list\n",
    "\n",
    "savings_data = [total_crypto_wallet, total_stocks_bonds]\n",
    "\n",
    "# Review the Python list savings_data\n",
    "\n",
    "savings_data"
   ]
  },
  {
   "cell_type": "markdown",
   "metadata": {},
   "source": [
    "#### Step 2: Use the `savings_data` list to create a Pandas DataFrame named `savings_df`, and then display this DataFrame. The function to create the DataFrame should take the following three parameters:\n",
    "\n",
    "- `savings_data`: Use the list that you just created.\n",
    "\n",
    "- `columns`: Set this parameter equal to a Python list with a single value called `amount`.\n",
    "\n",
    "- `index`: Set this parameter equal to a Python list with the values of `crypto` and `stock/bond`.\n"
   ]
  },
  {
   "cell_type": "code",
   "execution_count": 24,
   "metadata": {},
   "outputs": [
    {
     "data": {
      "text/html": [
       "<div>\n",
       "<style scoped>\n",
       "    .dataframe tbody tr th:only-of-type {\n",
       "        vertical-align: middle;\n",
       "    }\n",
       "\n",
       "    .dataframe tbody tr th {\n",
       "        vertical-align: top;\n",
       "    }\n",
       "\n",
       "    .dataframe thead th {\n",
       "        text-align: right;\n",
       "    }\n",
       "</style>\n",
       "<table border=\"1\" class=\"dataframe\">\n",
       "  <thead>\n",
       "    <tr style=\"text-align: right;\">\n",
       "      <th></th>\n",
       "      <th>amount</th>\n",
       "    </tr>\n",
       "  </thead>\n",
       "  <tbody>\n",
       "    <tr>\n",
       "      <th>crypto</th>\n",
       "      <td>36149.562</td>\n",
       "    </tr>\n",
       "    <tr>\n",
       "      <th>stock/bond</th>\n",
       "      <td>62814.300</td>\n",
       "    </tr>\n",
       "  </tbody>\n",
       "</table>\n",
       "</div>"
      ],
      "text/plain": [
       "               amount\n",
       "crypto      36149.562\n",
       "stock/bond  62814.300"
      ]
     },
     "execution_count": 24,
     "metadata": {},
     "output_type": "execute_result"
    }
   ],
   "source": [
    "# Create a Pandas DataFrame called savings_df \n",
    "\n",
    "savings_df = pd.DataFrame(savings_data, columns=[\"amount\"], index=[\"crypto\", \"stock/bond\"])\n",
    "\n",
    "\n",
    "# Display the savings_df DataFrame\n",
    "\n",
    "savings_df"
   ]
  },
  {
   "cell_type": "markdown",
   "metadata": {},
   "source": [
    "#### Step 3: Use the `savings_df` DataFrame to plot a pie chart that visualizes the composition of the member’s portfolio. The y-axis of the pie chart uses `amount`. Be sure to add a title."
   ]
  },
  {
   "cell_type": "code",
   "execution_count": 25,
   "metadata": {},
   "outputs": [
    {
     "data": {
      "image/png": "[encoded data removed]",
      "text/plain": [
       "<Figure size 360x360 with 1 Axes>"
      ]
     },
     "metadata": {},
     "output_type": "display_data"
    }
   ],
   "source": [
    "# Plot the total value of the member's portfolio (crypto and stock/bond) in a pie chart\n",
    "\n",
    "portfolio_composition = savings_df.plot.pie(y='amount', title='Portfolio Composition', figsize=(5, 5))\n"
   ]
  },
  {
   "cell_type": "markdown",
   "metadata": {},
   "source": [
    "#### Step 4: Using Python, determine if the current portfolio has enough to create an emergency fund as part of the member’s financial plan. Ideally, an emergency fund should equal to three times the member’s monthly income. To do this, implement the following steps:\n",
    "\n",
    "Step 1. Create a variable named `emergency_fund_value`, and set it equal to three times the value of the member’s `monthly_income` of 12000. (You set this earlier in Part 1).\n",
    "\n",
    "Step 2. Create a series of three if statements to determine if the member’s total portfolio is large enough to fund the emergency portfolio:\n",
    "\n",
    "* If the total portfolio value is greater than the emergency fund value, display a message congratulating the member for having enough money in this fund.\n",
    "\n",
    "* Else if the total portfolio value is equal to the emergency fund value, display a message congratulating the member on reaching this important financial goal.\n",
    "\n",
    "* Else the total portfolio is less than the emergency fund value, so display a message showing how many dollars away the member is from reaching the goal. (Subtract the total portfolio value from the emergency fund value.)\n"
   ]
  },
  {
   "cell_type": "markdown",
   "metadata": {},
   "source": [
    "##### Step 4-1: Create a variable named `emergency_fund_value`, and set it equal to three times the value of the member’s `monthly_income` of 12000. (You set this earlier in Part 1)."
   ]
  },
  {
   "cell_type": "code",
   "execution_count": 26,
   "metadata": {},
   "outputs": [
    {
     "data": {
      "text/plain": [
       "36000"
      ]
     },
     "execution_count": 26,
     "metadata": {},
     "output_type": "execute_result"
    }
   ],
   "source": [
    "# Create a variable named emergency_fund_value\n",
    "\n",
    "emergency_fund_value = monthly_income * 3\n",
    "emergency_fund_value\n"
   ]
  },
  {
   "cell_type": "markdown",
   "metadata": {},
   "source": [
    "##### Step 4-2: Create a series of three if statements to determine if the member’s total portfolio is large enough to fund the emergency portfolio:\n",
    "\n",
    "* If the total portfolio value is greater than the emergency fund value, display a message congratulating the member for having enough money in this fund.\n",
    "\n",
    "* Else if the total portfolio value is equal to the emergency fund value, display a message congratulating the member on reaching this important financial goal.\n",
    "\n",
    "* Else the total portfolio is less than the emergency fund value, so display a message showing how many dollars away the member is from reaching the goal. (Subtract the total portfolio value from the emergency fund value.)"
   ]
  },
  {
   "cell_type": "code",
   "execution_count": 27,
   "metadata": {},
   "outputs": [
    {
     "name": "stdout",
     "output_type": "stream",
     "text": [
      "Congratulations! You have enough money for your emergency fund.\n"
     ]
    }
   ],
   "source": [
    "# Evaluate the possibility of creating an emergency fund with 3 conditions:\n",
    "\n",
    "if float(total_portfolio_value) > emergency_fund_value:\n",
    "    print(\"Congratulations! You have enough money for your emergency fund.\")\n",
    "elif float(total_portfolio_value) == emergency_fund_value:\n",
    "    print(\"Your entire portfolio will need to be converted to your emergency fund\")\n",
    "elif float(total_portfolio_value) < emergency_fund_value:\n",
    "    print(f\"Funds not available, please deposit {emergency_fund_value - float(total_portfolio_value)} more dollars.\")\n"
   ]
  },
  {
   "cell_type": "markdown",
   "metadata": {},
   "source": [
    "## Part 2: Create a Financial Planner for Retirement"
   ]
  },
  {
   "cell_type": "markdown",
   "metadata": {},
   "source": [
    "### Create the Monte Carlo Simulation\n",
    "\n",
    "In this section, you’ll use the MCForecastTools library to create a Monte Carlo simulation for the member’s savings portfolio. To do this, complete the following steps:\n",
    "\n",
    "1. Make an API call via the Alpaca SDK to get 3 years of historical closing prices for a traditional 60/40 portfolio split: 60% stocks (SPY) and 40% bonds (AGG).\n",
    "\n",
    "2. Run a Monte Carlo simulation of 500 samples and 30 years for the 60/40 portfolio, and then plot the results.The following image shows the overlay line plot resulting from a simulation with these characteristics. However, because a random number generator is used to run each live Monte Carlo simulation, your image will differ slightly from this exact image:\n",
    "\n",
    "![A screenshot depicts the resulting plot.](Images/5-4-monte-carlo-line-plot.png)\n",
    "\n",
    "3. Plot the probability distribution of the Monte Carlo simulation. Plot the probability distribution of the Monte Carlo simulation. The following image shows the histogram plot resulting from a simulation with these characteristics. However, because a random number generator is used to run each live Monte Carlo simulation, your image will differ slightly from this exact image:\n",
    "\n",
    "![A screenshot depicts the histogram plot.](Images/5-4-monte-carlo-histogram.png)\n",
    "\n",
    "4. Generate the summary statistics for the Monte Carlo simulation.\n",
    "\n"
   ]
  },
  {
   "cell_type": "markdown",
   "metadata": {},
   "source": [
    "#### Step 1: Make an API call via the Alpaca SDK to get 3 years of historical closing prices for a traditional 60/40 portfolio split: 60% stocks (SPY) and 40% bonds (AGG)."
   ]
  },
  {
   "cell_type": "code",
   "execution_count": 28,
   "metadata": {},
   "outputs": [],
   "source": [
    "# Set start and end dates of 3 years back from your current date\n",
    "# Alternatively, you can use an end date of 2020-08-07 and work 3 years back from that date \n",
    "\n",
    "start_date_2 = pd.Timestamp(\"2019-07-15\", tz=\"America/New_York\").isoformat()\n",
    "end_date_2 = pd.Timestamp(\"2022-07-15\", tz=\"America/New_York\").isoformat()\n"
   ]
  },
  {
   "cell_type": "code",
   "execution_count": 29,
   "metadata": {},
   "outputs": [
    {
     "data": {
      "text/html": [
       "<div>\n",
       "<style scoped>\n",
       "    .dataframe tbody tr th:only-of-type {\n",
       "        vertical-align: middle;\n",
       "    }\n",
       "\n",
       "    .dataframe tbody tr th {\n",
       "        vertical-align: top;\n",
       "    }\n",
       "\n",
       "    .dataframe thead tr th {\n",
       "        text-align: left;\n",
       "    }\n",
       "</style>\n",
       "<table border=\"1\" class=\"dataframe\">\n",
       "  <thead>\n",
       "    <tr>\n",
       "      <th></th>\n",
       "      <th colspan=\"8\" halign=\"left\">SPY</th>\n",
       "      <th colspan=\"8\" halign=\"left\">AGG</th>\n",
       "    </tr>\n",
       "    <tr>\n",
       "      <th></th>\n",
       "      <th>open</th>\n",
       "      <th>high</th>\n",
       "      <th>low</th>\n",
       "      <th>close</th>\n",
       "      <th>volume</th>\n",
       "      <th>trade_count</th>\n",
       "      <th>vwap</th>\n",
       "      <th>symbol</th>\n",
       "      <th>open</th>\n",
       "      <th>high</th>\n",
       "      <th>low</th>\n",
       "      <th>close</th>\n",
       "      <th>volume</th>\n",
       "      <th>trade_count</th>\n",
       "      <th>vwap</th>\n",
       "      <th>symbol</th>\n",
       "    </tr>\n",
       "  </thead>\n",
       "  <tbody>\n",
       "    <tr>\n",
       "      <th>2019-07-15</th>\n",
       "      <td>301.12</td>\n",
       "      <td>301.13</td>\n",
       "      <td>300.19</td>\n",
       "      <td>300.75</td>\n",
       "      <td>33992129</td>\n",
       "      <td>149900</td>\n",
       "      <td>300.605019</td>\n",
       "      <td>SPY</td>\n",
       "      <td>110.87</td>\n",
       "      <td>110.960</td>\n",
       "      <td>110.85</td>\n",
       "      <td>110.95</td>\n",
       "      <td>3619089</td>\n",
       "      <td>10885</td>\n",
       "      <td>110.925638</td>\n",
       "      <td>AGG</td>\n",
       "    </tr>\n",
       "    <tr>\n",
       "      <th>2019-07-16</th>\n",
       "      <td>300.64</td>\n",
       "      <td>300.88</td>\n",
       "      <td>299.44</td>\n",
       "      <td>299.71</td>\n",
       "      <td>40807546</td>\n",
       "      <td>183816</td>\n",
       "      <td>300.108039</td>\n",
       "      <td>SPY</td>\n",
       "      <td>110.75</td>\n",
       "      <td>110.830</td>\n",
       "      <td>110.64</td>\n",
       "      <td>110.83</td>\n",
       "      <td>2149083</td>\n",
       "      <td>12676</td>\n",
       "      <td>110.743438</td>\n",
       "      <td>AGG</td>\n",
       "    </tr>\n",
       "    <tr>\n",
       "      <th>2019-07-17</th>\n",
       "      <td>299.77</td>\n",
       "      <td>299.93</td>\n",
       "      <td>297.74</td>\n",
       "      <td>297.74</td>\n",
       "      <td>44343835</td>\n",
       "      <td>200151</td>\n",
       "      <td>298.543544</td>\n",
       "      <td>SPY</td>\n",
       "      <td>110.93</td>\n",
       "      <td>111.140</td>\n",
       "      <td>110.91</td>\n",
       "      <td>111.12</td>\n",
       "      <td>2985610</td>\n",
       "      <td>11771</td>\n",
       "      <td>111.066605</td>\n",
       "      <td>AGG</td>\n",
       "    </tr>\n",
       "    <tr>\n",
       "      <th>2019-07-18</th>\n",
       "      <td>297.18</td>\n",
       "      <td>299.25</td>\n",
       "      <td>296.70</td>\n",
       "      <td>298.83</td>\n",
       "      <td>53567032</td>\n",
       "      <td>236661</td>\n",
       "      <td>298.067797</td>\n",
       "      <td>SPY</td>\n",
       "      <td>111.10</td>\n",
       "      <td>111.330</td>\n",
       "      <td>111.06</td>\n",
       "      <td>111.30</td>\n",
       "      <td>5982223</td>\n",
       "      <td>17331</td>\n",
       "      <td>111.220550</td>\n",
       "      <td>AGG</td>\n",
       "    </tr>\n",
       "    <tr>\n",
       "      <th>2019-07-19</th>\n",
       "      <td>300.01</td>\n",
       "      <td>300.07</td>\n",
       "      <td>296.96</td>\n",
       "      <td>297.17</td>\n",
       "      <td>76794138</td>\n",
       "      <td>260715</td>\n",
       "      <td>298.617649</td>\n",
       "      <td>SPY</td>\n",
       "      <td>111.22</td>\n",
       "      <td>111.286</td>\n",
       "      <td>111.14</td>\n",
       "      <td>111.17</td>\n",
       "      <td>3150774</td>\n",
       "      <td>9948</td>\n",
       "      <td>111.225017</td>\n",
       "      <td>AGG</td>\n",
       "    </tr>\n",
       "  </tbody>\n",
       "</table>\n",
       "</div>"
      ],
      "text/plain": [
       "               SPY                                                            \\\n",
       "              open    high     low   close    volume trade_count        vwap   \n",
       "2019-07-15  301.12  301.13  300.19  300.75  33992129      149900  300.605019   \n",
       "2019-07-16  300.64  300.88  299.44  299.71  40807546      183816  300.108039   \n",
       "2019-07-17  299.77  299.93  297.74  297.74  44343835      200151  298.543544   \n",
       "2019-07-18  297.18  299.25  296.70  298.83  53567032      236661  298.067797   \n",
       "2019-07-19  300.01  300.07  296.96  297.17  76794138      260715  298.617649   \n",
       "\n",
       "                      AGG                                                \\\n",
       "           symbol    open     high     low   close   volume trade_count   \n",
       "2019-07-15    SPY  110.87  110.960  110.85  110.95  3619089       10885   \n",
       "2019-07-16    SPY  110.75  110.830  110.64  110.83  2149083       12676   \n",
       "2019-07-17    SPY  110.93  111.140  110.91  111.12  2985610       11771   \n",
       "2019-07-18    SPY  111.10  111.330  111.06  111.30  5982223       17331   \n",
       "2019-07-19    SPY  111.22  111.286  111.14  111.17  3150774        9948   \n",
       "\n",
       "                               \n",
       "                  vwap symbol  \n",
       "2019-07-15  110.925638    AGG  \n",
       "2019-07-16  110.743438    AGG  \n",
       "2019-07-17  111.066605    AGG  \n",
       "2019-07-18  111.220550    AGG  \n",
       "2019-07-19  111.225017    AGG  "
      ]
     },
     "metadata": {},
     "output_type": "display_data"
    },
    {
     "data": {
      "text/html": [
       "<div>\n",
       "<style scoped>\n",
       "    .dataframe tbody tr th:only-of-type {\n",
       "        vertical-align: middle;\n",
       "    }\n",
       "\n",
       "    .dataframe tbody tr th {\n",
       "        vertical-align: top;\n",
       "    }\n",
       "\n",
       "    .dataframe thead tr th {\n",
       "        text-align: left;\n",
       "    }\n",
       "</style>\n",
       "<table border=\"1\" class=\"dataframe\">\n",
       "  <thead>\n",
       "    <tr>\n",
       "      <th></th>\n",
       "      <th colspan=\"8\" halign=\"left\">SPY</th>\n",
       "      <th colspan=\"8\" halign=\"left\">AGG</th>\n",
       "    </tr>\n",
       "    <tr>\n",
       "      <th></th>\n",
       "      <th>open</th>\n",
       "      <th>high</th>\n",
       "      <th>low</th>\n",
       "      <th>close</th>\n",
       "      <th>volume</th>\n",
       "      <th>trade_count</th>\n",
       "      <th>vwap</th>\n",
       "      <th>symbol</th>\n",
       "      <th>open</th>\n",
       "      <th>high</th>\n",
       "      <th>low</th>\n",
       "      <th>close</th>\n",
       "      <th>volume</th>\n",
       "      <th>trade_count</th>\n",
       "      <th>vwap</th>\n",
       "      <th>symbol</th>\n",
       "    </tr>\n",
       "  </thead>\n",
       "  <tbody>\n",
       "    <tr>\n",
       "      <th>2022-07-11</th>\n",
       "      <td>385.91</td>\n",
       "      <td>386.8700</td>\n",
       "      <td>383.500</td>\n",
       "      <td>384.23</td>\n",
       "      <td>58100363</td>\n",
       "      <td>473423</td>\n",
       "      <td>384.871994</td>\n",
       "      <td>SPY</td>\n",
       "      <td>101.67</td>\n",
       "      <td>101.92</td>\n",
       "      <td>101.6029</td>\n",
       "      <td>101.70</td>\n",
       "      <td>5758310</td>\n",
       "      <td>17084</td>\n",
       "      <td>101.720884</td>\n",
       "      <td>AGG</td>\n",
       "    </tr>\n",
       "    <tr>\n",
       "      <th>2022-07-12</th>\n",
       "      <td>383.66</td>\n",
       "      <td>386.1600</td>\n",
       "      <td>378.990</td>\n",
       "      <td>380.83</td>\n",
       "      <td>62027220</td>\n",
       "      <td>512244</td>\n",
       "      <td>382.617620</td>\n",
       "      <td>SPY</td>\n",
       "      <td>102.02</td>\n",
       "      <td>102.19</td>\n",
       "      <td>101.8200</td>\n",
       "      <td>101.84</td>\n",
       "      <td>6664991</td>\n",
       "      <td>21057</td>\n",
       "      <td>102.039440</td>\n",
       "      <td>AGG</td>\n",
       "    </tr>\n",
       "    <tr>\n",
       "      <th>2022-07-13</th>\n",
       "      <td>375.09</td>\n",
       "      <td>381.9200</td>\n",
       "      <td>374.658</td>\n",
       "      <td>378.83</td>\n",
       "      <td>83575452</td>\n",
       "      <td>671953</td>\n",
       "      <td>378.819688</td>\n",
       "      <td>SPY</td>\n",
       "      <td>101.23</td>\n",
       "      <td>102.24</td>\n",
       "      <td>101.1900</td>\n",
       "      <td>102.21</td>\n",
       "      <td>6514247</td>\n",
       "      <td>26716</td>\n",
       "      <td>101.977478</td>\n",
       "      <td>AGG</td>\n",
       "    </tr>\n",
       "    <tr>\n",
       "      <th>2022-07-14</th>\n",
       "      <td>373.99</td>\n",
       "      <td>379.0498</td>\n",
       "      <td>371.040</td>\n",
       "      <td>377.91</td>\n",
       "      <td>89349688</td>\n",
       "      <td>637416</td>\n",
       "      <td>375.589384</td>\n",
       "      <td>SPY</td>\n",
       "      <td>101.51</td>\n",
       "      <td>101.98</td>\n",
       "      <td>101.3300</td>\n",
       "      <td>101.85</td>\n",
       "      <td>6224496</td>\n",
       "      <td>24722</td>\n",
       "      <td>101.747120</td>\n",
       "      <td>AGG</td>\n",
       "    </tr>\n",
       "    <tr>\n",
       "      <th>2022-07-15</th>\n",
       "      <td>382.62</td>\n",
       "      <td>385.2500</td>\n",
       "      <td>380.540</td>\n",
       "      <td>385.13</td>\n",
       "      <td>79318992</td>\n",
       "      <td>488124</td>\n",
       "      <td>383.334989</td>\n",
       "      <td>SPY</td>\n",
       "      <td>101.94</td>\n",
       "      <td>102.35</td>\n",
       "      <td>101.9000</td>\n",
       "      <td>102.25</td>\n",
       "      <td>8440151</td>\n",
       "      <td>27300</td>\n",
       "      <td>102.214854</td>\n",
       "      <td>AGG</td>\n",
       "    </tr>\n",
       "  </tbody>\n",
       "</table>\n",
       "</div>"
      ],
      "text/plain": [
       "               SPY                                                   \\\n",
       "              open      high      low   close    volume trade_count   \n",
       "2022-07-11  385.91  386.8700  383.500  384.23  58100363      473423   \n",
       "2022-07-12  383.66  386.1600  378.990  380.83  62027220      512244   \n",
       "2022-07-13  375.09  381.9200  374.658  378.83  83575452      671953   \n",
       "2022-07-14  373.99  379.0498  371.040  377.91  89349688      637416   \n",
       "2022-07-15  382.62  385.2500  380.540  385.13  79318992      488124   \n",
       "\n",
       "                                  AGG                                     \\\n",
       "                  vwap symbol    open    high       low   close   volume   \n",
       "2022-07-11  384.871994    SPY  101.67  101.92  101.6029  101.70  5758310   \n",
       "2022-07-12  382.617620    SPY  102.02  102.19  101.8200  101.84  6664991   \n",
       "2022-07-13  378.819688    SPY  101.23  102.24  101.1900  102.21  6514247   \n",
       "2022-07-14  375.589384    SPY  101.51  101.98  101.3300  101.85  6224496   \n",
       "2022-07-15  383.334989    SPY  101.94  102.35  101.9000  102.25  8440151   \n",
       "\n",
       "                                           \n",
       "           trade_count        vwap symbol  \n",
       "2022-07-11       17084  101.720884    AGG  \n",
       "2022-07-12       21057  102.039440    AGG  \n",
       "2022-07-13       26716  101.977478    AGG  \n",
       "2022-07-14       24722  101.747120    AGG  \n",
       "2022-07-15       27300  102.214854    AGG  "
      ]
     },
     "metadata": {},
     "output_type": "display_data"
    }
   ],
   "source": [
    "# Use the Alpaca get_bars function to make the API call to get the 3 years worth of pricing data\n",
    "# The tickers and timeframe parameters should have been set in Part 1 of this activity \n",
    "# The start and end dates should be updated with the information set above\n",
    "# Remember to add the df property to the end of the call so the response is returned as a DataFrame\n",
    "\n",
    "traditional_portfolio_df = alpaca.get_bars(\n",
    "    tickers,\n",
    "    timeframe,\n",
    "    start=start_date_2,\n",
    "    end=end_date_2).df\n",
    "\n",
    "# Reorganize the DataFrame\n",
    "# Separate ticker data\n",
    "\n",
    "SPY= traditional_portfolio_df[traditional_portfolio_df['symbol']=='SPY']\n",
    "AGG = traditional_portfolio_df[traditional_portfolio_df['symbol']=='AGG']\n",
    "\n",
    "# Concatenate the ticker DataFrames\n",
    "\n",
    "traditional_portfolio_df = pd.concat([SPY, AGG],axis=1, keys=['SPY','AGG'])\n",
    "\n",
    "# Display both the first and last five rows of the DataFrame\n",
    "\n",
    "traditional_portfolio_df.index = traditional_portfolio_df.index.date\n",
    "\n",
    "display(traditional_portfolio_df.head(5))\n",
    "display(traditional_portfolio_df.tail(5))\n"
   ]
  },
  {
   "cell_type": "markdown",
   "metadata": {},
   "source": [
    "#### Step 2: Run a Monte Carlo simulation of 500 samples and 30 years for the 60/40 portfolio, and then plot the results."
   ]
  },
  {
   "cell_type": "code",
   "execution_count": 30,
   "metadata": {},
   "outputs": [],
   "source": [
    "# Configure the Monte Carlo simulation to forecast 30 years cumulative returns\n",
    "# The weights should be split 40% to AGG and 60% to SPY.\n",
    "# Run 500 samples.\n",
    "# YOUR CODE HERE\n",
    "\n",
    "# Review the simulation input data\n",
    "\n",
    "thirty_year_simulation = MCSimulation(\n",
    "    portfolio_data=traditional_portfolio_df,\n",
    "    weights=[0.6, 0.4],\n",
    "    num_simulation=500,\n",
    "    num_trading_days=252*30,)\n"
   ]
  },
  {
   "cell_type": "code",
   "execution_count": 31,
   "metadata": {},
   "outputs": [
    {
     "name": "stdout",
     "output_type": "stream",
     "text": [
      "Running Monte Carlo simulation number 0.\n",
      "Running Monte Carlo simulation number 10.\n",
      "Running Monte Carlo simulation number 20.\n",
      "Running Monte Carlo simulation number 30.\n",
      "Running Monte Carlo simulation number 40.\n",
      "Running Monte Carlo simulation number 50.\n",
      "Running Monte Carlo simulation number 60.\n",
      "Running Monte Carlo simulation number 70.\n",
      "Running Monte Carlo simulation number 80.\n",
      "Running Monte Carlo simulation number 90.\n",
      "Running Monte Carlo simulation number 100.\n"
     ]
    },
    {
     "name": "stderr",
     "output_type": "stream",
     "text": [
      "/Users/niravmehta/Desktop/Mod_5_Challenge/MCForecastTools.py:117: PerformanceWarning: DataFrame is highly fragmented.  This is usually the result of calling `frame.insert` many times, which has poor performance.  Consider joining all columns at once using pd.concat(axis=1) instead.  To get a de-fragmented frame, use `newframe = frame.copy()`\n",
      "  portfolio_cumulative_returns[n] = (1 + sim_df.fillna(0)).cumprod()\n"
     ]
    },
    {
     "name": "stdout",
     "output_type": "stream",
     "text": [
      "Running Monte Carlo simulation number 110.\n",
      "Running Monte Carlo simulation number 120.\n",
      "Running Monte Carlo simulation number 130.\n",
      "Running Monte Carlo simulation number 140.\n",
      "Running Monte Carlo simulation number 150.\n",
      "Running Monte Carlo simulation number 160.\n",
      "Running Monte Carlo simulation number 170.\n",
      "Running Monte Carlo simulation number 180.\n",
      "Running Monte Carlo simulation number 190.\n",
      "Running Monte Carlo simulation number 200.\n",
      "Running Monte Carlo simulation number 210.\n",
      "Running Monte Carlo simulation number 220.\n",
      "Running Monte Carlo simulation number 230.\n",
      "Running Monte Carlo simulation number 240.\n",
      "Running Monte Carlo simulation number 250.\n",
      "Running Monte Carlo simulation number 260.\n",
      "Running Monte Carlo simulation number 270.\n",
      "Running Monte Carlo simulation number 280.\n",
      "Running Monte Carlo simulation number 290.\n",
      "Running Monte Carlo simulation number 300.\n",
      "Running Monte Carlo simulation number 310.\n",
      "Running Monte Carlo simulation number 320.\n",
      "Running Monte Carlo simulation number 330.\n",
      "Running Monte Carlo simulation number 340.\n",
      "Running Monte Carlo simulation number 350.\n",
      "Running Monte Carlo simulation number 360.\n",
      "Running Monte Carlo simulation number 370.\n",
      "Running Monte Carlo simulation number 380.\n",
      "Running Monte Carlo simulation number 390.\n",
      "Running Monte Carlo simulation number 400.\n",
      "Running Monte Carlo simulation number 410.\n",
      "Running Monte Carlo simulation number 420.\n",
      "Running Monte Carlo simulation number 430.\n",
      "Running Monte Carlo simulation number 440.\n",
      "Running Monte Carlo simulation number 450.\n",
      "Running Monte Carlo simulation number 460.\n",
      "Running Monte Carlo simulation number 470.\n",
      "Running Monte Carlo simulation number 480.\n",
      "Running Monte Carlo simulation number 490.\n"
     ]
    },
    {
     "data": {
      "text/html": [
       "<div>\n",
       "<style scoped>\n",
       "    .dataframe tbody tr th:only-of-type {\n",
       "        vertical-align: middle;\n",
       "    }\n",
       "\n",
       "    .dataframe tbody tr th {\n",
       "        vertical-align: top;\n",
       "    }\n",
       "\n",
       "    .dataframe thead th {\n",
       "        text-align: right;\n",
       "    }\n",
       "</style>\n",
       "<table border=\"1\" class=\"dataframe\">\n",
       "  <thead>\n",
       "    <tr style=\"text-align: right;\">\n",
       "      <th></th>\n",
       "      <th>0</th>\n",
       "      <th>1</th>\n",
       "      <th>2</th>\n",
       "      <th>3</th>\n",
       "      <th>4</th>\n",
       "      <th>5</th>\n",
       "      <th>6</th>\n",
       "      <th>7</th>\n",
       "      <th>8</th>\n",
       "      <th>9</th>\n",
       "      <th>...</th>\n",
       "      <th>490</th>\n",
       "      <th>491</th>\n",
       "      <th>492</th>\n",
       "      <th>493</th>\n",
       "      <th>494</th>\n",
       "      <th>495</th>\n",
       "      <th>496</th>\n",
       "      <th>497</th>\n",
       "      <th>498</th>\n",
       "      <th>499</th>\n",
       "    </tr>\n",
       "  </thead>\n",
       "  <tbody>\n",
       "    <tr>\n",
       "      <th>0</th>\n",
       "      <td>1.000000</td>\n",
       "      <td>1.000000</td>\n",
       "      <td>1.000000</td>\n",
       "      <td>1.000000</td>\n",
       "      <td>1.000000</td>\n",
       "      <td>1.000000</td>\n",
       "      <td>1.000000</td>\n",
       "      <td>1.000000</td>\n",
       "      <td>1.000000</td>\n",
       "      <td>1.000000</td>\n",
       "      <td>...</td>\n",
       "      <td>1.000000</td>\n",
       "      <td>1.000000</td>\n",
       "      <td>1.000000</td>\n",
       "      <td>1.000000</td>\n",
       "      <td>1.000000</td>\n",
       "      <td>1.000000</td>\n",
       "      <td>1.000000</td>\n",
       "      <td>1.000000</td>\n",
       "      <td>1.000000</td>\n",
       "      <td>1.000000</td>\n",
       "    </tr>\n",
       "    <tr>\n",
       "      <th>1</th>\n",
       "      <td>0.987960</td>\n",
       "      <td>1.017442</td>\n",
       "      <td>1.007463</td>\n",
       "      <td>0.987599</td>\n",
       "      <td>1.000316</td>\n",
       "      <td>1.015513</td>\n",
       "      <td>1.000109</td>\n",
       "      <td>0.989361</td>\n",
       "      <td>0.996100</td>\n",
       "      <td>1.001888</td>\n",
       "      <td>...</td>\n",
       "      <td>0.987551</td>\n",
       "      <td>0.999769</td>\n",
       "      <td>1.001382</td>\n",
       "      <td>1.002179</td>\n",
       "      <td>0.986752</td>\n",
       "      <td>1.005088</td>\n",
       "      <td>1.002739</td>\n",
       "      <td>1.008255</td>\n",
       "      <td>0.997807</td>\n",
       "      <td>0.998587</td>\n",
       "    </tr>\n",
       "    <tr>\n",
       "      <th>2</th>\n",
       "      <td>0.994724</td>\n",
       "      <td>1.021953</td>\n",
       "      <td>1.007815</td>\n",
       "      <td>0.985320</td>\n",
       "      <td>0.981082</td>\n",
       "      <td>1.001622</td>\n",
       "      <td>1.007196</td>\n",
       "      <td>0.999988</td>\n",
       "      <td>0.993306</td>\n",
       "      <td>1.005160</td>\n",
       "      <td>...</td>\n",
       "      <td>0.983281</td>\n",
       "      <td>1.011192</td>\n",
       "      <td>0.990123</td>\n",
       "      <td>1.002613</td>\n",
       "      <td>0.979396</td>\n",
       "      <td>0.992541</td>\n",
       "      <td>1.013512</td>\n",
       "      <td>0.999990</td>\n",
       "      <td>1.003356</td>\n",
       "      <td>0.993480</td>\n",
       "    </tr>\n",
       "    <tr>\n",
       "      <th>3</th>\n",
       "      <td>1.010331</td>\n",
       "      <td>1.026912</td>\n",
       "      <td>1.009676</td>\n",
       "      <td>1.001836</td>\n",
       "      <td>0.966789</td>\n",
       "      <td>0.999460</td>\n",
       "      <td>1.000763</td>\n",
       "      <td>0.978740</td>\n",
       "      <td>0.996623</td>\n",
       "      <td>1.016684</td>\n",
       "      <td>...</td>\n",
       "      <td>0.983461</td>\n",
       "      <td>0.996844</td>\n",
       "      <td>0.987537</td>\n",
       "      <td>0.999489</td>\n",
       "      <td>0.969737</td>\n",
       "      <td>0.997165</td>\n",
       "      <td>1.013453</td>\n",
       "      <td>0.991993</td>\n",
       "      <td>1.010400</td>\n",
       "      <td>0.991924</td>\n",
       "    </tr>\n",
       "    <tr>\n",
       "      <th>4</th>\n",
       "      <td>1.019231</td>\n",
       "      <td>1.043801</td>\n",
       "      <td>1.001284</td>\n",
       "      <td>0.982876</td>\n",
       "      <td>0.965193</td>\n",
       "      <td>1.006895</td>\n",
       "      <td>1.000079</td>\n",
       "      <td>1.000731</td>\n",
       "      <td>0.984016</td>\n",
       "      <td>1.011215</td>\n",
       "      <td>...</td>\n",
       "      <td>0.977093</td>\n",
       "      <td>0.993953</td>\n",
       "      <td>0.986782</td>\n",
       "      <td>0.992224</td>\n",
       "      <td>0.956917</td>\n",
       "      <td>0.995178</td>\n",
       "      <td>1.005167</td>\n",
       "      <td>0.981967</td>\n",
       "      <td>1.016194</td>\n",
       "      <td>0.997087</td>\n",
       "    </tr>\n",
       "    <tr>\n",
       "      <th>...</th>\n",
       "      <td>...</td>\n",
       "      <td>...</td>\n",
       "      <td>...</td>\n",
       "      <td>...</td>\n",
       "      <td>...</td>\n",
       "      <td>...</td>\n",
       "      <td>...</td>\n",
       "      <td>...</td>\n",
       "      <td>...</td>\n",
       "      <td>...</td>\n",
       "      <td>...</td>\n",
       "      <td>...</td>\n",
       "      <td>...</td>\n",
       "      <td>...</td>\n",
       "      <td>...</td>\n",
       "      <td>...</td>\n",
       "      <td>...</td>\n",
       "      <td>...</td>\n",
       "      <td>...</td>\n",
       "      <td>...</td>\n",
       "      <td>...</td>\n",
       "    </tr>\n",
       "    <tr>\n",
       "      <th>7556</th>\n",
       "      <td>4.735302</td>\n",
       "      <td>13.137754</td>\n",
       "      <td>3.830000</td>\n",
       "      <td>7.534115</td>\n",
       "      <td>16.857659</td>\n",
       "      <td>11.725054</td>\n",
       "      <td>5.827452</td>\n",
       "      <td>2.711654</td>\n",
       "      <td>1.989096</td>\n",
       "      <td>2.773648</td>\n",
       "      <td>...</td>\n",
       "      <td>26.486124</td>\n",
       "      <td>4.889833</td>\n",
       "      <td>3.780022</td>\n",
       "      <td>9.366899</td>\n",
       "      <td>0.427341</td>\n",
       "      <td>8.586412</td>\n",
       "      <td>5.791692</td>\n",
       "      <td>7.316386</td>\n",
       "      <td>4.419625</td>\n",
       "      <td>1.243953</td>\n",
       "    </tr>\n",
       "    <tr>\n",
       "      <th>7557</th>\n",
       "      <td>4.794078</td>\n",
       "      <td>13.284799</td>\n",
       "      <td>3.823841</td>\n",
       "      <td>7.487855</td>\n",
       "      <td>16.919585</td>\n",
       "      <td>11.598320</td>\n",
       "      <td>5.889835</td>\n",
       "      <td>2.702459</td>\n",
       "      <td>1.945366</td>\n",
       "      <td>2.741628</td>\n",
       "      <td>...</td>\n",
       "      <td>26.199690</td>\n",
       "      <td>4.844795</td>\n",
       "      <td>3.756461</td>\n",
       "      <td>9.256195</td>\n",
       "      <td>0.423488</td>\n",
       "      <td>8.591331</td>\n",
       "      <td>5.694203</td>\n",
       "      <td>7.355110</td>\n",
       "      <td>4.366992</td>\n",
       "      <td>1.237940</td>\n",
       "    </tr>\n",
       "    <tr>\n",
       "      <th>7558</th>\n",
       "      <td>4.777269</td>\n",
       "      <td>13.215977</td>\n",
       "      <td>3.794536</td>\n",
       "      <td>7.348786</td>\n",
       "      <td>16.938426</td>\n",
       "      <td>11.655724</td>\n",
       "      <td>5.826459</td>\n",
       "      <td>2.658951</td>\n",
       "      <td>1.924076</td>\n",
       "      <td>2.724038</td>\n",
       "      <td>...</td>\n",
       "      <td>26.328304</td>\n",
       "      <td>4.870179</td>\n",
       "      <td>3.739149</td>\n",
       "      <td>9.293707</td>\n",
       "      <td>0.422800</td>\n",
       "      <td>8.558283</td>\n",
       "      <td>5.769655</td>\n",
       "      <td>7.333572</td>\n",
       "      <td>4.413322</td>\n",
       "      <td>1.233834</td>\n",
       "    </tr>\n",
       "    <tr>\n",
       "      <th>7559</th>\n",
       "      <td>4.826019</td>\n",
       "      <td>13.127594</td>\n",
       "      <td>3.820864</td>\n",
       "      <td>7.482200</td>\n",
       "      <td>16.853949</td>\n",
       "      <td>11.596907</td>\n",
       "      <td>5.875697</td>\n",
       "      <td>2.679946</td>\n",
       "      <td>1.940526</td>\n",
       "      <td>2.739614</td>\n",
       "      <td>...</td>\n",
       "      <td>26.555969</td>\n",
       "      <td>4.878739</td>\n",
       "      <td>3.800528</td>\n",
       "      <td>9.223367</td>\n",
       "      <td>0.431896</td>\n",
       "      <td>8.667277</td>\n",
       "      <td>5.765329</td>\n",
       "      <td>7.418764</td>\n",
       "      <td>4.469841</td>\n",
       "      <td>1.239684</td>\n",
       "    </tr>\n",
       "    <tr>\n",
       "      <th>7560</th>\n",
       "      <td>4.901087</td>\n",
       "      <td>13.155519</td>\n",
       "      <td>3.869741</td>\n",
       "      <td>7.615679</td>\n",
       "      <td>16.983621</td>\n",
       "      <td>11.893798</td>\n",
       "      <td>5.897500</td>\n",
       "      <td>2.656925</td>\n",
       "      <td>1.938390</td>\n",
       "      <td>2.698272</td>\n",
       "      <td>...</td>\n",
       "      <td>26.369252</td>\n",
       "      <td>4.905306</td>\n",
       "      <td>3.793642</td>\n",
       "      <td>9.151946</td>\n",
       "      <td>0.440818</td>\n",
       "      <td>8.577985</td>\n",
       "      <td>5.809263</td>\n",
       "      <td>7.276865</td>\n",
       "      <td>4.429595</td>\n",
       "      <td>1.242151</td>\n",
       "    </tr>\n",
       "  </tbody>\n",
       "</table>\n",
       "<p>7561 rows × 500 columns</p>\n",
       "</div>"
      ],
      "text/plain": [
       "           0          1         2         3          4          5         6    \\\n",
       "0     1.000000   1.000000  1.000000  1.000000   1.000000   1.000000  1.000000   \n",
       "1     0.987960   1.017442  1.007463  0.987599   1.000316   1.015513  1.000109   \n",
       "2     0.994724   1.021953  1.007815  0.985320   0.981082   1.001622  1.007196   \n",
       "3     1.010331   1.026912  1.009676  1.001836   0.966789   0.999460  1.000763   \n",
       "4     1.019231   1.043801  1.001284  0.982876   0.965193   1.006895  1.000079   \n",
       "...        ...        ...       ...       ...        ...        ...       ...   \n",
       "7556  4.735302  13.137754  3.830000  7.534115  16.857659  11.725054  5.827452   \n",
       "7557  4.794078  13.284799  3.823841  7.487855  16.919585  11.598320  5.889835   \n",
       "7558  4.777269  13.215977  3.794536  7.348786  16.938426  11.655724  5.826459   \n",
       "7559  4.826019  13.127594  3.820864  7.482200  16.853949  11.596907  5.875697   \n",
       "7560  4.901087  13.155519  3.869741  7.615679  16.983621  11.893798  5.897500   \n",
       "\n",
       "           7         8         9    ...        490       491       492  \\\n",
       "0     1.000000  1.000000  1.000000  ...   1.000000  1.000000  1.000000   \n",
       "1     0.989361  0.996100  1.001888  ...   0.987551  0.999769  1.001382   \n",
       "2     0.999988  0.993306  1.005160  ...   0.983281  1.011192  0.990123   \n",
       "3     0.978740  0.996623  1.016684  ...   0.983461  0.996844  0.987537   \n",
       "4     1.000731  0.984016  1.011215  ...   0.977093  0.993953  0.986782   \n",
       "...        ...       ...       ...  ...        ...       ...       ...   \n",
       "7556  2.711654  1.989096  2.773648  ...  26.486124  4.889833  3.780022   \n",
       "7557  2.702459  1.945366  2.741628  ...  26.199690  4.844795  3.756461   \n",
       "7558  2.658951  1.924076  2.724038  ...  26.328304  4.870179  3.739149   \n",
       "7559  2.679946  1.940526  2.739614  ...  26.555969  4.878739  3.800528   \n",
       "7560  2.656925  1.938390  2.698272  ...  26.369252  4.905306  3.793642   \n",
       "\n",
       "           493       494       495       496       497       498       499  \n",
       "0     1.000000  1.000000  1.000000  1.000000  1.000000  1.000000  1.000000  \n",
       "1     1.002179  0.986752  1.005088  1.002739  1.008255  0.997807  0.998587  \n",
       "2     1.002613  0.979396  0.992541  1.013512  0.999990  1.003356  0.993480  \n",
       "3     0.999489  0.969737  0.997165  1.013453  0.991993  1.010400  0.991924  \n",
       "4     0.992224  0.956917  0.995178  1.005167  0.981967  1.016194  0.997087  \n",
       "...        ...       ...       ...       ...       ...       ...       ...  \n",
       "7556  9.366899  0.427341  8.586412  5.791692  7.316386  4.419625  1.243953  \n",
       "7557  9.256195  0.423488  8.591331  5.694203  7.355110  4.366992  1.237940  \n",
       "7558  9.293707  0.422800  8.558283  5.769655  7.333572  4.413322  1.233834  \n",
       "7559  9.223367  0.431896  8.667277  5.765329  7.418764  4.469841  1.239684  \n",
       "7560  9.151946  0.440818  8.577985  5.809263  7.276865  4.429595  1.242151  \n",
       "\n",
       "[7561 rows x 500 columns]"
      ]
     },
     "execution_count": 31,
     "metadata": {},
     "output_type": "execute_result"
    }
   ],
   "source": [
    "# Run the Monte Carlo simulation to forecast 30 years cumulative returns\n",
    "# YOUR CODE HERE\n",
    "\n",
    "thirty_year_simulation.calc_cumulative_return()\n"
   ]
  },
  {
   "cell_type": "code",
   "execution_count": 32,
   "metadata": {},
   "outputs": [
    {
     "data": {
      "text/plain": [
       "<AxesSubplot:title={'center':'500 Simulations of Cumulative Portfolio Return Trajectories Over the Next 7560 Trading Days.'}>"
      ]
     },
     "execution_count": 32,
     "metadata": {},
     "output_type": "execute_result"
    },
    {
     "data": {
      "image/png": "[encoded data removed]",
      "text/plain": [
       "<Figure size 432x288 with 1 Axes>"
      ]
     },
     "metadata": {
      "needs_background": "light"
     },
     "output_type": "display_data"
    }
   ],
   "source": [
    "# Visualize the 30-year Monte Carlo simulation by creating an\n",
    "# overlay line plot\n",
    "\n",
    "thirty_year_simulation.plot_simulation()\n"
   ]
  },
  {
   "cell_type": "markdown",
   "metadata": {},
   "source": [
    "#### Step 3: Plot the probability distribution of the Monte Carlo simulation."
   ]
  },
  {
   "cell_type": "code",
   "execution_count": 33,
   "metadata": {},
   "outputs": [
    {
     "data": {
      "text/plain": [
       "<AxesSubplot:title={'center':'Distribution of Final Cumuluative Returns Across All 500 Simulations'}, ylabel='Frequency'>"
      ]
     },
     "execution_count": 33,
     "metadata": {},
     "output_type": "execute_result"
    },
    {
     "data": {
      "image/png": "[encoded data removed]",
      "text/plain": [
       "<Figure size 432x288 with 1 Axes>"
      ]
     },
     "metadata": {
      "needs_background": "light"
     },
     "output_type": "display_data"
    }
   ],
   "source": [
    "# Visualize the probability distribution of the 30-year Monte Carlo simulation \n",
    "# by plotting a histogram\n",
    "\n",
    "thirty_year_simulation.plot_distribution()\n"
   ]
  },
  {
   "cell_type": "markdown",
   "metadata": {},
   "source": [
    "#### Step 4: Generate the summary statistics for the Monte Carlo simulation."
   ]
  },
  {
   "cell_type": "code",
   "execution_count": 34,
   "metadata": {},
   "outputs": [
    {
     "data": {
      "text/plain": [
       "count           500.000000\n",
       "mean              5.978955\n",
       "std               6.225912\n",
       "min               0.361496\n",
       "25%               2.578082\n",
       "50%               4.262032\n",
       "75%               7.245606\n",
       "max              57.118291\n",
       "95% CI Lower      0.897702\n",
       "95% CI Upper     22.826823\n",
       "Name: 7560, dtype: float64"
      ]
     },
     "execution_count": 34,
     "metadata": {},
     "output_type": "execute_result"
    }
   ],
   "source": [
    "# Generate summary statistics from the 30-year Monte Carlo simulation results\n",
    "# Save the results as a variable\n",
    "\n",
    "simulation_stats = thirty_year_simulation.summarize_cumulative_return()\n",
    "\n",
    "\n",
    "# Review the 30-year Monte Carlo summary statistics\n",
    "\n",
    "simulation_stats\n"
   ]
  },
  {
   "cell_type": "markdown",
   "metadata": {},
   "source": [
    "### Analyze the Retirement Portfolio Forecasts\n",
    "\n",
    "Using the current value of only the stock and bond portion of the member's portfolio and the summary statistics that you generated from the Monte Carlo simulation, answer the following question in your Jupyter notebook:\n",
    "\n",
    "-  What are the lower and upper bounds for the expected value of the portfolio with a 95% confidence interval?\n"
   ]
  },
  {
   "cell_type": "code",
   "execution_count": 35,
   "metadata": {},
   "outputs": [
    {
     "data": {
      "text/plain": [
       "62814.3"
      ]
     },
     "execution_count": 35,
     "metadata": {},
     "output_type": "execute_result"
    }
   ],
   "source": [
    "# Print the current balance of the stock and bond portion of the members portfolio\n",
    "\n",
    "total_stocks_bonds"
   ]
  },
  {
   "cell_type": "code",
   "execution_count": 36,
   "metadata": {},
   "outputs": [
    {
     "name": "stdout",
     "output_type": "stream",
     "text": [
      "There is a 95% chance that after 30 years your portfolio will be worth between $56388.51 and $1433850.91.\n"
     ]
    }
   ],
   "source": [
    "# Use the lower and upper `95%` confidence intervals to calculate the range of the possible outcomes for the current stock/bond portfolio\n",
    "ci_lower_thirty_cumulative_return = round(simulation_stats[8]*total_stocks_bonds,2)\n",
    "ci_upper_thirty_cumulative_return = round(simulation_stats[9]*total_stocks_bonds,2)\n",
    "\n",
    "# Print the result of your calculations\n",
    "\n",
    "print(f\"There is a 95% chance that after 30 years your portfolio will be worth between ${ci_lower_thirty_cumulative_return} and ${ci_upper_thirty_cumulative_return}.\")\n"
   ]
  },
  {
   "cell_type": "markdown",
   "metadata": {},
   "source": [
    "### Forecast Cumulative Returns in 10 Years\n",
    "\n",
    "The CTO of the credit union is impressed with your work on these planning tools but wonders if 30 years is a long time to wait until retirement. So, your next task is to adjust the retirement portfolio and run a new Monte Carlo simulation to find out if the changes will allow members to retire earlier.\n",
    "\n",
    "For this new Monte Carlo simulation, do the following: \n",
    "\n",
    "- Forecast the cumulative returns for 10 years from now. Because of the shortened investment horizon (30 years to 10 years), the portfolio needs to invest more heavily in the riskier asset&mdash;that is, stock&mdash;to help accumulate wealth for retirement. \n",
    "\n",
    "- Adjust the weights of the retirement portfolio so that the composition for the Monte Carlo simulation consists of 20% bonds and 80% stocks. \n",
    "\n",
    "- Run the simulation over 500 samples, and use the same data that the API call to Alpaca generated.\n",
    "\n",
    "- Based on the new Monte Carlo simulation, answer the following questions in your Jupyter notebook:\n",
    "\n",
    "    - Using the current value of only the stock and bond portion of the member's portfolio and the summary statistics that you generated from the new Monte Carlo simulation, what are the lower and upper bounds for the expected value of the portfolio (with the new weights) with a 95% confidence interval?\n",
    "\n",
    "    - Will weighting the portfolio more heavily toward stocks allow the credit union members to retire after only 10 years?\n"
   ]
  },
  {
   "cell_type": "code",
   "execution_count": 37,
   "metadata": {},
   "outputs": [],
   "source": [
    "# Configure a Monte Carlo simulation to forecast 10 years cumulative returns\n",
    "# The weights should be split 20% to AGG and 80% to SPY.\n",
    "# Run 500 samples.\n",
    "# YOUR CODE HERE\n",
    "\n",
    "# Review the simulation input data\n",
    "\n",
    "ten_year_simulation = MCSimulation(\n",
    "    portfolio_data=traditional_portfolio_df,\n",
    "    weights=[0.8, 0.2],\n",
    "    num_simulation=500,\n",
    "    num_trading_days=252*10,)"
   ]
  },
  {
   "cell_type": "code",
   "execution_count": 38,
   "metadata": {},
   "outputs": [
    {
     "name": "stdout",
     "output_type": "stream",
     "text": [
      "Running Monte Carlo simulation number 0.\n",
      "Running Monte Carlo simulation number 10.\n",
      "Running Monte Carlo simulation number 20.\n",
      "Running Monte Carlo simulation number 30.\n",
      "Running Monte Carlo simulation number 40.\n",
      "Running Monte Carlo simulation number 50.\n",
      "Running Monte Carlo simulation number 60.\n",
      "Running Monte Carlo simulation number 70.\n",
      "Running Monte Carlo simulation number 80.\n",
      "Running Monte Carlo simulation number 90.\n",
      "Running Monte Carlo simulation number 100.\n"
     ]
    },
    {
     "name": "stderr",
     "output_type": "stream",
     "text": [
      "/Users/niravmehta/Desktop/Mod_5_Challenge/MCForecastTools.py:117: PerformanceWarning: DataFrame is highly fragmented.  This is usually the result of calling `frame.insert` many times, which has poor performance.  Consider joining all columns at once using pd.concat(axis=1) instead.  To get a de-fragmented frame, use `newframe = frame.copy()`\n",
      "  portfolio_cumulative_returns[n] = (1 + sim_df.fillna(0)).cumprod()\n"
     ]
    },
    {
     "name": "stdout",
     "output_type": "stream",
     "text": [
      "Running Monte Carlo simulation number 110.\n",
      "Running Monte Carlo simulation number 120.\n",
      "Running Monte Carlo simulation number 130.\n",
      "Running Monte Carlo simulation number 140.\n",
      "Running Monte Carlo simulation number 150.\n",
      "Running Monte Carlo simulation number 160.\n",
      "Running Monte Carlo simulation number 170.\n",
      "Running Monte Carlo simulation number 180.\n",
      "Running Monte Carlo simulation number 190.\n",
      "Running Monte Carlo simulation number 200.\n",
      "Running Monte Carlo simulation number 210.\n",
      "Running Monte Carlo simulation number 220.\n",
      "Running Monte Carlo simulation number 230.\n",
      "Running Monte Carlo simulation number 240.\n",
      "Running Monte Carlo simulation number 250.\n",
      "Running Monte Carlo simulation number 260.\n",
      "Running Monte Carlo simulation number 270.\n",
      "Running Monte Carlo simulation number 280.\n",
      "Running Monte Carlo simulation number 290.\n",
      "Running Monte Carlo simulation number 300.\n",
      "Running Monte Carlo simulation number 310.\n",
      "Running Monte Carlo simulation number 320.\n",
      "Running Monte Carlo simulation number 330.\n",
      "Running Monte Carlo simulation number 340.\n",
      "Running Monte Carlo simulation number 350.\n",
      "Running Monte Carlo simulation number 360.\n",
      "Running Monte Carlo simulation number 370.\n",
      "Running Monte Carlo simulation number 380.\n",
      "Running Monte Carlo simulation number 390.\n",
      "Running Monte Carlo simulation number 400.\n",
      "Running Monte Carlo simulation number 410.\n",
      "Running Monte Carlo simulation number 420.\n",
      "Running Monte Carlo simulation number 430.\n",
      "Running Monte Carlo simulation number 440.\n",
      "Running Monte Carlo simulation number 450.\n",
      "Running Monte Carlo simulation number 460.\n",
      "Running Monte Carlo simulation number 470.\n",
      "Running Monte Carlo simulation number 480.\n",
      "Running Monte Carlo simulation number 490.\n"
     ]
    },
    {
     "data": {
      "text/html": [
       "<div>\n",
       "<style scoped>\n",
       "    .dataframe tbody tr th:only-of-type {\n",
       "        vertical-align: middle;\n",
       "    }\n",
       "\n",
       "    .dataframe tbody tr th {\n",
       "        vertical-align: top;\n",
       "    }\n",
       "\n",
       "    .dataframe thead th {\n",
       "        text-align: right;\n",
       "    }\n",
       "</style>\n",
       "<table border=\"1\" class=\"dataframe\">\n",
       "  <thead>\n",
       "    <tr style=\"text-align: right;\">\n",
       "      <th></th>\n",
       "      <th>0</th>\n",
       "      <th>1</th>\n",
       "      <th>2</th>\n",
       "      <th>3</th>\n",
       "      <th>4</th>\n",
       "      <th>5</th>\n",
       "      <th>6</th>\n",
       "      <th>7</th>\n",
       "      <th>8</th>\n",
       "      <th>9</th>\n",
       "      <th>...</th>\n",
       "      <th>490</th>\n",
       "      <th>491</th>\n",
       "      <th>492</th>\n",
       "      <th>493</th>\n",
       "      <th>494</th>\n",
       "      <th>495</th>\n",
       "      <th>496</th>\n",
       "      <th>497</th>\n",
       "      <th>498</th>\n",
       "      <th>499</th>\n",
       "    </tr>\n",
       "  </thead>\n",
       "  <tbody>\n",
       "    <tr>\n",
       "      <th>0</th>\n",
       "      <td>1.000000</td>\n",
       "      <td>1.000000</td>\n",
       "      <td>1.000000</td>\n",
       "      <td>1.000000</td>\n",
       "      <td>1.000000</td>\n",
       "      <td>1.000000</td>\n",
       "      <td>1.000000</td>\n",
       "      <td>1.000000</td>\n",
       "      <td>1.000000</td>\n",
       "      <td>1.000000</td>\n",
       "      <td>...</td>\n",
       "      <td>1.000000</td>\n",
       "      <td>1.000000</td>\n",
       "      <td>1.000000</td>\n",
       "      <td>1.000000</td>\n",
       "      <td>1.000000</td>\n",
       "      <td>1.000000</td>\n",
       "      <td>1.000000</td>\n",
       "      <td>1.000000</td>\n",
       "      <td>1.000000</td>\n",
       "      <td>1.000000</td>\n",
       "    </tr>\n",
       "    <tr>\n",
       "      <th>1</th>\n",
       "      <td>1.011339</td>\n",
       "      <td>1.015998</td>\n",
       "      <td>1.014214</td>\n",
       "      <td>1.006846</td>\n",
       "      <td>0.986199</td>\n",
       "      <td>1.006705</td>\n",
       "      <td>1.009351</td>\n",
       "      <td>0.987394</td>\n",
       "      <td>0.997242</td>\n",
       "      <td>1.008374</td>\n",
       "      <td>...</td>\n",
       "      <td>0.997874</td>\n",
       "      <td>0.992344</td>\n",
       "      <td>1.006441</td>\n",
       "      <td>1.010791</td>\n",
       "      <td>0.994052</td>\n",
       "      <td>0.986099</td>\n",
       "      <td>1.020899</td>\n",
       "      <td>0.997670</td>\n",
       "      <td>0.995027</td>\n",
       "      <td>1.017005</td>\n",
       "    </tr>\n",
       "    <tr>\n",
       "      <th>2</th>\n",
       "      <td>1.018500</td>\n",
       "      <td>1.017758</td>\n",
       "      <td>1.010961</td>\n",
       "      <td>1.004725</td>\n",
       "      <td>0.970625</td>\n",
       "      <td>1.022491</td>\n",
       "      <td>1.009483</td>\n",
       "      <td>0.997038</td>\n",
       "      <td>0.994283</td>\n",
       "      <td>1.020616</td>\n",
       "      <td>...</td>\n",
       "      <td>1.003767</td>\n",
       "      <td>1.014015</td>\n",
       "      <td>1.004828</td>\n",
       "      <td>1.006585</td>\n",
       "      <td>1.011383</td>\n",
       "      <td>1.031134</td>\n",
       "      <td>1.021408</td>\n",
       "      <td>0.980015</td>\n",
       "      <td>0.991048</td>\n",
       "      <td>1.033660</td>\n",
       "    </tr>\n",
       "    <tr>\n",
       "      <th>3</th>\n",
       "      <td>1.013431</td>\n",
       "      <td>0.993108</td>\n",
       "      <td>1.048190</td>\n",
       "      <td>0.996003</td>\n",
       "      <td>0.982872</td>\n",
       "      <td>1.027988</td>\n",
       "      <td>1.001517</td>\n",
       "      <td>0.998096</td>\n",
       "      <td>0.984776</td>\n",
       "      <td>1.019589</td>\n",
       "      <td>...</td>\n",
       "      <td>1.002333</td>\n",
       "      <td>1.031698</td>\n",
       "      <td>1.009594</td>\n",
       "      <td>0.996044</td>\n",
       "      <td>0.995746</td>\n",
       "      <td>1.016869</td>\n",
       "      <td>1.011754</td>\n",
       "      <td>0.977757</td>\n",
       "      <td>0.974217</td>\n",
       "      <td>1.038773</td>\n",
       "    </tr>\n",
       "    <tr>\n",
       "      <th>4</th>\n",
       "      <td>1.018361</td>\n",
       "      <td>0.995037</td>\n",
       "      <td>1.074578</td>\n",
       "      <td>0.988933</td>\n",
       "      <td>0.983422</td>\n",
       "      <td>1.022227</td>\n",
       "      <td>1.003798</td>\n",
       "      <td>0.988793</td>\n",
       "      <td>0.971100</td>\n",
       "      <td>1.037228</td>\n",
       "      <td>...</td>\n",
       "      <td>1.001828</td>\n",
       "      <td>1.037038</td>\n",
       "      <td>1.008503</td>\n",
       "      <td>0.999253</td>\n",
       "      <td>0.985279</td>\n",
       "      <td>1.043748</td>\n",
       "      <td>1.022314</td>\n",
       "      <td>0.969125</td>\n",
       "      <td>0.981196</td>\n",
       "      <td>1.039600</td>\n",
       "    </tr>\n",
       "    <tr>\n",
       "      <th>...</th>\n",
       "      <td>...</td>\n",
       "      <td>...</td>\n",
       "      <td>...</td>\n",
       "      <td>...</td>\n",
       "      <td>...</td>\n",
       "      <td>...</td>\n",
       "      <td>...</td>\n",
       "      <td>...</td>\n",
       "      <td>...</td>\n",
       "      <td>...</td>\n",
       "      <td>...</td>\n",
       "      <td>...</td>\n",
       "      <td>...</td>\n",
       "      <td>...</td>\n",
       "      <td>...</td>\n",
       "      <td>...</td>\n",
       "      <td>...</td>\n",
       "      <td>...</td>\n",
       "      <td>...</td>\n",
       "      <td>...</td>\n",
       "      <td>...</td>\n",
       "    </tr>\n",
       "    <tr>\n",
       "      <th>2516</th>\n",
       "      <td>1.651242</td>\n",
       "      <td>1.289147</td>\n",
       "      <td>1.881539</td>\n",
       "      <td>1.177745</td>\n",
       "      <td>2.385761</td>\n",
       "      <td>1.907424</td>\n",
       "      <td>0.531985</td>\n",
       "      <td>2.521192</td>\n",
       "      <td>7.637679</td>\n",
       "      <td>2.681354</td>\n",
       "      <td>...</td>\n",
       "      <td>3.341005</td>\n",
       "      <td>2.052268</td>\n",
       "      <td>1.572970</td>\n",
       "      <td>2.821501</td>\n",
       "      <td>2.173679</td>\n",
       "      <td>1.206010</td>\n",
       "      <td>1.221828</td>\n",
       "      <td>3.786281</td>\n",
       "      <td>0.946946</td>\n",
       "      <td>5.002990</td>\n",
       "    </tr>\n",
       "    <tr>\n",
       "      <th>2517</th>\n",
       "      <td>1.651321</td>\n",
       "      <td>1.289307</td>\n",
       "      <td>1.893189</td>\n",
       "      <td>1.151606</td>\n",
       "      <td>2.384793</td>\n",
       "      <td>1.914444</td>\n",
       "      <td>0.531746</td>\n",
       "      <td>2.501289</td>\n",
       "      <td>7.798926</td>\n",
       "      <td>2.679922</td>\n",
       "      <td>...</td>\n",
       "      <td>3.313268</td>\n",
       "      <td>2.083314</td>\n",
       "      <td>1.577276</td>\n",
       "      <td>2.823690</td>\n",
       "      <td>2.168408</td>\n",
       "      <td>1.203533</td>\n",
       "      <td>1.218099</td>\n",
       "      <td>3.811210</td>\n",
       "      <td>0.926699</td>\n",
       "      <td>5.041997</td>\n",
       "    </tr>\n",
       "    <tr>\n",
       "      <th>2518</th>\n",
       "      <td>1.632424</td>\n",
       "      <td>1.294597</td>\n",
       "      <td>1.903708</td>\n",
       "      <td>1.162906</td>\n",
       "      <td>2.417208</td>\n",
       "      <td>1.908029</td>\n",
       "      <td>0.537039</td>\n",
       "      <td>2.505561</td>\n",
       "      <td>7.863665</td>\n",
       "      <td>2.671414</td>\n",
       "      <td>...</td>\n",
       "      <td>3.310571</td>\n",
       "      <td>2.084235</td>\n",
       "      <td>1.556348</td>\n",
       "      <td>2.847775</td>\n",
       "      <td>2.194495</td>\n",
       "      <td>1.210186</td>\n",
       "      <td>1.196680</td>\n",
       "      <td>3.777621</td>\n",
       "      <td>0.930292</td>\n",
       "      <td>5.065531</td>\n",
       "    </tr>\n",
       "    <tr>\n",
       "      <th>2519</th>\n",
       "      <td>1.622044</td>\n",
       "      <td>1.293753</td>\n",
       "      <td>1.894363</td>\n",
       "      <td>1.158387</td>\n",
       "      <td>2.448286</td>\n",
       "      <td>1.876154</td>\n",
       "      <td>0.533267</td>\n",
       "      <td>2.504305</td>\n",
       "      <td>7.784450</td>\n",
       "      <td>2.644856</td>\n",
       "      <td>...</td>\n",
       "      <td>3.356986</td>\n",
       "      <td>2.017459</td>\n",
       "      <td>1.543297</td>\n",
       "      <td>2.871831</td>\n",
       "      <td>2.230097</td>\n",
       "      <td>1.202015</td>\n",
       "      <td>1.163127</td>\n",
       "      <td>3.796822</td>\n",
       "      <td>0.916263</td>\n",
       "      <td>5.012055</td>\n",
       "    </tr>\n",
       "    <tr>\n",
       "      <th>2520</th>\n",
       "      <td>1.637721</td>\n",
       "      <td>1.302287</td>\n",
       "      <td>1.890281</td>\n",
       "      <td>1.166043</td>\n",
       "      <td>2.445872</td>\n",
       "      <td>1.866737</td>\n",
       "      <td>0.528048</td>\n",
       "      <td>2.487028</td>\n",
       "      <td>7.588539</td>\n",
       "      <td>2.663082</td>\n",
       "      <td>...</td>\n",
       "      <td>3.382779</td>\n",
       "      <td>1.962502</td>\n",
       "      <td>1.527684</td>\n",
       "      <td>2.894933</td>\n",
       "      <td>2.193507</td>\n",
       "      <td>1.207229</td>\n",
       "      <td>1.167782</td>\n",
       "      <td>3.808287</td>\n",
       "      <td>0.902258</td>\n",
       "      <td>5.115646</td>\n",
       "    </tr>\n",
       "  </tbody>\n",
       "</table>\n",
       "<p>2521 rows × 500 columns</p>\n",
       "</div>"
      ],
      "text/plain": [
       "           0         1         2         3         4         5         6    \\\n",
       "0     1.000000  1.000000  1.000000  1.000000  1.000000  1.000000  1.000000   \n",
       "1     1.011339  1.015998  1.014214  1.006846  0.986199  1.006705  1.009351   \n",
       "2     1.018500  1.017758  1.010961  1.004725  0.970625  1.022491  1.009483   \n",
       "3     1.013431  0.993108  1.048190  0.996003  0.982872  1.027988  1.001517   \n",
       "4     1.018361  0.995037  1.074578  0.988933  0.983422  1.022227  1.003798   \n",
       "...        ...       ...       ...       ...       ...       ...       ...   \n",
       "2516  1.651242  1.289147  1.881539  1.177745  2.385761  1.907424  0.531985   \n",
       "2517  1.651321  1.289307  1.893189  1.151606  2.384793  1.914444  0.531746   \n",
       "2518  1.632424  1.294597  1.903708  1.162906  2.417208  1.908029  0.537039   \n",
       "2519  1.622044  1.293753  1.894363  1.158387  2.448286  1.876154  0.533267   \n",
       "2520  1.637721  1.302287  1.890281  1.166043  2.445872  1.866737  0.528048   \n",
       "\n",
       "           7         8         9    ...       490       491       492  \\\n",
       "0     1.000000  1.000000  1.000000  ...  1.000000  1.000000  1.000000   \n",
       "1     0.987394  0.997242  1.008374  ...  0.997874  0.992344  1.006441   \n",
       "2     0.997038  0.994283  1.020616  ...  1.003767  1.014015  1.004828   \n",
       "3     0.998096  0.984776  1.019589  ...  1.002333  1.031698  1.009594   \n",
       "4     0.988793  0.971100  1.037228  ...  1.001828  1.037038  1.008503   \n",
       "...        ...       ...       ...  ...       ...       ...       ...   \n",
       "2516  2.521192  7.637679  2.681354  ...  3.341005  2.052268  1.572970   \n",
       "2517  2.501289  7.798926  2.679922  ...  3.313268  2.083314  1.577276   \n",
       "2518  2.505561  7.863665  2.671414  ...  3.310571  2.084235  1.556348   \n",
       "2519  2.504305  7.784450  2.644856  ...  3.356986  2.017459  1.543297   \n",
       "2520  2.487028  7.588539  2.663082  ...  3.382779  1.962502  1.527684   \n",
       "\n",
       "           493       494       495       496       497       498       499  \n",
       "0     1.000000  1.000000  1.000000  1.000000  1.000000  1.000000  1.000000  \n",
       "1     1.010791  0.994052  0.986099  1.020899  0.997670  0.995027  1.017005  \n",
       "2     1.006585  1.011383  1.031134  1.021408  0.980015  0.991048  1.033660  \n",
       "3     0.996044  0.995746  1.016869  1.011754  0.977757  0.974217  1.038773  \n",
       "4     0.999253  0.985279  1.043748  1.022314  0.969125  0.981196  1.039600  \n",
       "...        ...       ...       ...       ...       ...       ...       ...  \n",
       "2516  2.821501  2.173679  1.206010  1.221828  3.786281  0.946946  5.002990  \n",
       "2517  2.823690  2.168408  1.203533  1.218099  3.811210  0.926699  5.041997  \n",
       "2518  2.847775  2.194495  1.210186  1.196680  3.777621  0.930292  5.065531  \n",
       "2519  2.871831  2.230097  1.202015  1.163127  3.796822  0.916263  5.012055  \n",
       "2520  2.894933  2.193507  1.207229  1.167782  3.808287  0.902258  5.115646  \n",
       "\n",
       "[2521 rows x 500 columns]"
      ]
     },
     "execution_count": 38,
     "metadata": {},
     "output_type": "execute_result"
    }
   ],
   "source": [
    "# Run the Monte Carlo simulation to forecast 10 years cumulative returns\n",
    "\n",
    "ten_year_simulation.calc_cumulative_return()\n"
   ]
  },
  {
   "cell_type": "code",
   "execution_count": 39,
   "metadata": {},
   "outputs": [
    {
     "data": {
      "text/plain": [
       "<AxesSubplot:title={'center':'500 Simulations of Cumulative Portfolio Return Trajectories Over the Next 2520 Trading Days.'}>"
      ]
     },
     "execution_count": 39,
     "metadata": {},
     "output_type": "execute_result"
    },
    {
     "data": {
      "image/png": "[encoded data removed]",
      "text/plain": [
       "<Figure size 432x288 with 1 Axes>"
      ]
     },
     "metadata": {
      "needs_background": "light"
     },
     "output_type": "display_data"
    }
   ],
   "source": [
    "# Visualize the 10-year Monte Carlo simulation by creating an\n",
    "# overlay line plot\n",
    "\n",
    "ten_year_simulation.plot_simulation()\n"
   ]
  },
  {
   "cell_type": "code",
   "execution_count": 40,
   "metadata": {},
   "outputs": [
    {
     "data": {
      "text/plain": [
       "<AxesSubplot:title={'center':'Distribution of Final Cumuluative Returns Across All 500 Simulations'}, ylabel='Frequency'>"
      ]
     },
     "execution_count": 40,
     "metadata": {},
     "output_type": "execute_result"
    },
    {
     "data": {
      "image/png": "[encoded data removed]",
      "text/plain": [
       "<Figure size 432x288 with 1 Axes>"
      ]
     },
     "metadata": {
      "needs_background": "light"
     },
     "output_type": "display_data"
    }
   ],
   "source": [
    "# Visualize the probability distribution of the 10-year Monte Carlo simulation \n",
    "# by plotting a histogram\n",
    "\n",
    "ten_year_simulation.plot_distribution()\n"
   ]
  },
  {
   "cell_type": "code",
   "execution_count": 41,
   "metadata": {},
   "outputs": [
    {
     "data": {
      "text/plain": [
       "count           500.000000\n",
       "mean              2.389565\n",
       "std               1.620704\n",
       "min               0.311531\n",
       "25%               1.262223\n",
       "50%               1.938991\n",
       "75%               2.947062\n",
       "max              10.855082\n",
       "95% CI Lower      0.535159\n",
       "95% CI Upper      6.326829\n",
       "Name: 2520, dtype: float64"
      ]
     },
     "execution_count": 41,
     "metadata": {},
     "output_type": "execute_result"
    }
   ],
   "source": [
    "# Generate summary statistics from the 10-year Monte Carlo simulation results\n",
    "# Save the results as a variable\n",
    "\n",
    "ten_year_sim_stats = ten_year_simulation.summarize_cumulative_return()\n",
    "\n",
    "# Review the 10-year Monte Carlo summary statistics\n",
    "\n",
    "ten_year_sim_stats\n"
   ]
  },
  {
   "cell_type": "markdown",
   "metadata": {},
   "source": [
    "### Answer the following questions:"
   ]
  },
  {
   "cell_type": "markdown",
   "metadata": {},
   "source": [
    "#### Question: Using the current value of only the stock and bond portion of the member's portfolio and the summary statistics that you generated from the new Monte Carlo simulation, what are the lower and upper bounds for the expected value of the portfolio (with the new weights) with a 95% confidence interval?"
   ]
  },
  {
   "cell_type": "code",
   "execution_count": 42,
   "metadata": {},
   "outputs": [
    {
     "data": {
      "text/plain": [
       "62814.3"
      ]
     },
     "execution_count": 42,
     "metadata": {},
     "output_type": "execute_result"
    }
   ],
   "source": [
    "# Print the current balance of the stock and bond portion of the members portfolio\n",
    "\n",
    "total_stocks_bonds"
   ]
  },
  {
   "cell_type": "code",
   "execution_count": 43,
   "metadata": {},
   "outputs": [
    {
     "name": "stdout",
     "output_type": "stream",
     "text": [
      "There is a 95% chance that after 10 years your portfolio will be worth between $33615.64 and $397415.34.\n"
     ]
    }
   ],
   "source": [
    "# Use the lower and upper `95%` confidence intervals to calculate the range of the possible outcomes for the current stock/bond portfolio\n",
    "ci_lower_ten_cumulative_return = round(ten_year_sim_stats[8]*total_stocks_bonds,2)\n",
    "ci_upper_ten_cumulative_return = round(ten_year_sim_stats[9]*total_stocks_bonds,2)\n",
    "\n",
    "# Print the result of your calculations\n",
    "\n",
    "print(f\"There is a 95% chance that after 10 years your portfolio will be worth between ${ci_lower_ten_cumulative_return} and ${ci_upper_ten_cumulative_return}.\")\n"
   ]
  },
  {
   "cell_type": "markdown",
   "metadata": {},
   "source": [
    "#### Question: Will weighting the portfolio more heavily to stocks allow the credit union members to retire after only 10 years?"
   ]
  },
  {
   "cell_type": "raw",
   "metadata": {},
   "source": [
    "**Answer** \n",
    "\n",
    "No, increasing the weight of the stock portion of this member's portfolio from 60% to 80% will probably not generate the amount of capital needed to retire after 10 years. Although the member will probably see increased returns on a year by year basis, the difference will not be enough to accelerate his retirement by 20 years. "
   ]
  },
  {
   "cell_type": "code",
   "execution_count": null,
   "metadata": {},
   "outputs": [],
   "source": []
  }
 ],
 "metadata": {
  "kernelspec": {
   "display_name": "Python 3 (ipykernel)",
   "language": "python",
   "name": "python3"
  },
  "language_info": {
   "codemirror_mode": {
    "name": "ipython",
    "version": 3
   },
   "file_extension": ".py",
   "mimetype": "text/x-python",
   "name": "python",
   "nbconvert_exporter": "python",
   "pygments_lexer": "ipython3",
   "version": "3.7.13"
  }
 },
 "nbformat": 4,
 "nbformat_minor": 4
}
